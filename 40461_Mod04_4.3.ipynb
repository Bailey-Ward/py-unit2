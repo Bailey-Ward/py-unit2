{
  "cells": [
    {
      "metadata": {},
      "cell_type": "markdown",
      "source": [
        "# Section 4.3\n",
        "## File .readline() and .strip() Methods\n",
        "- File Read, a line at a time with `.readline()`\n",
        "- Remove characters using `.strip()`\n",
        "\n",
        "----- \n",
        "\n",
        "### Student will be able to\n",
        "- Use `.readline()` to read data from file, one line at a time\n",
        "- Use `.strip()` to remove new line characters and other whitespaces"
      ]
    },
    {
      "metadata": {},
      "cell_type": "markdown",
      "source": [
        "## Concept: Read files a line at a time\n",
        "### .readline()\n",
        "[![view video](https://iajupyterprodblobs.blob.core.windows.net/imagecontainer/common/play_video.png)]( http://edxinteractivepage.blob.core.windows.net/edxpages/f7cff1a7-5601-48a1-95a6-fd1fdfabd20e.html?details=[{\"src\":\"http://jupyternootbookwams.streaming.mediaservices.windows.net/8f41bf3b-05b1-459e-87e9-419168b2bf0d/Unit2_Section4.3a-Readlines-Line_by_Line.ism/manifest\",\"type\":\"application/vnd.ms-sstr+xml\"}],[{\"src\":\"http://jupyternootbookwams.streaming.mediaservices.windows.net/8f41bf3b-05b1-459e-87e9-419168b2bf0d/Unit2_Section4.3a-Readlines-Line_by_Line.vtt\",\"srclang\":\"en\",\"kind\":\"subtitles\",\"label\":\"english\"}])\n",
        "### Use .readline() to read a line in a file as a string\n",
        "Each .readline() moves to the next available line in the file.\n",
        "```python\n",
        "poem1 = open('poem1.txt', 'r')\n",
        "poem_line1 = poem1.readline()\n",
        "poem_line2 = poem1.readline()\n",
        "poem_line3 = poem1.readline()\n",
        "```"
      ]
    },
    {
      "metadata": {},
      "cell_type": "markdown",
      "source": [
        "### Examples"
      ]
    },
    {
      "metadata": {
        "trusted": false
      },
      "cell_type": "code",
      "source": [
        "# [ ]Run to download file poem1.txt\n",
        "!curl https://raw.githubusercontent.com/MicrosoftLearning/intropython/master/poem1.txt -o poem1.txt "
      ],
      "execution_count": 4,
      "outputs": [
        {
          "output_type": "stream",
          "name": "stderr",
          "text": [
            "  % Total    % Received % Xferd  Average Speed   Time    Time     Time  Current\n                                 Dload  Upload   Total   Spent    Left  Speed\n\n  0     0    0     0    0     0      0      0 --:--:-- --:--:-- --:--:--     0\n  0     0    0     0    0     0      0      0 --:--:-- --:--:-- --:--:--     0\n100    56  100    56    0     0     56      0  0:00:01 --:--:--  0:00:01   224\n"
          ]
        }
      ]
    },
    {
      "metadata": {
        "trusted": false
      },
      "cell_type": "code",
      "source": [
        "# [ ] review and run example\n",
        "# open address to file\n",
        "poem1 = open('poem1.txt', 'r')"
      ],
      "execution_count": 6,
      "outputs": []
    },
    {
      "metadata": {
        "collapsed": true,
        "trusted": false
      },
      "cell_type": "code",
      "source": [
        "# [ ] review and run example\n",
        "# readline 1, 2, 3\n",
        "poem_line1 = poem1.readline()\n",
        "poem_line2 = poem1.readline()\n",
        "poem_line3 = poem1.readline()"
      ],
      "execution_count": 7,
      "outputs": []
    },
    {
      "metadata": {
        "trusted": false
      },
      "cell_type": "code",
      "source": [
        "# [ ] review and run example: print the first 3 .readline() values\n",
        "print(poem_line1 + poem_line2 + poem_line3)"
      ],
      "execution_count": 8,
      "outputs": [
        {
          "output_type": "stream",
          "name": "stdout",
          "text": [
            "Loops I repeat\nloops\nloops\n\n"
          ]
        }
      ]
    },
    {
      "metadata": {
        "trusted": false
      },
      "cell_type": "code",
      "source": [
        "# [ ] review and run example printing return value & re-run several times\n",
        "print(poem1.readline())"
      ],
      "execution_count": 9,
      "outputs": [
        {
          "output_type": "stream",
          "name": "stdout",
          "text": [
            "loops\n\n"
          ]
        }
      ]
    },
    {
      "metadata": {
        "collapsed": true,
        "trusted": false
      },
      "cell_type": "code",
      "source": [
        "# [ ] review and run example to close file in memory- then run previous cell\n",
        "\n",
        "poem1.close()"
      ],
      "execution_count": 10,
      "outputs": []
    },
    {
      "metadata": {
        "collapsed": true
      },
      "cell_type": "markdown",
      "source": [
        "## Task 1: Use readline to get rainbow colors\n",
        "- Import https://raw.githubusercontent.com/MicrosoftLearning/intropython/master/rainbow as rainbow.txt  \n",
        "- Open rainbow.txt as rainbow_file as read-only  \n",
        "- Read the first 3 lines into variables: color1, color2, color3  \n",
        "- Close rainbow_file \n",
        "- Print the first 3 colors  "
      ]
    },
    {
      "metadata": {
        "trusted": false
      },
      "cell_type": "code",
      "source": [
        "# [ ] import https://raw.githubusercontent.com/MicrosoftLearning/intropython/master/rainbow as rainbow.txt\n",
        "!curl https://raw.githubusercontent.com/MicrosoftLearning/intropython/master/rainbow -o rainbow.txt\n"
      ],
      "execution_count": 11,
      "outputs": [
        {
          "output_type": "stream",
          "name": "stderr",
          "text": [
            "  % Total    % Received % Xferd  Average Speed   Time    Time     Time  Current\n                                 Dload  Upload   Total   Spent    Left  Speed\n\n  0     0    0     0    0     0      0      0 --:--:-- --:--:-- --:--:--     0\n100    43  100    43    0     0     43      0  0:00:01 --:--:--  0:00:01   105\n"
          ]
        }
      ]
    },
    {
      "metadata": {
        "trusted": false
      },
      "cell_type": "code",
      "source": [
        "# [ ] open rainbow.txt as rainbow_text\n",
        "rainbow_text = open('rainbow.txt')\n"
      ],
      "execution_count": 12,
      "outputs": []
    },
    {
      "metadata": {
        "collapsed": true,
        "trusted": false
      },
      "cell_type": "code",
      "source": [
        "# [ ] read the first 3 lines into variables: color1, color2, color3\n",
        "color1 = rainbow_text.readline()\n",
        "color2 = rainbow_text.readline()\n",
        "color3 = rainbow_text.readline()"
      ],
      "execution_count": 13,
      "outputs": []
    },
    {
      "metadata": {
        "collapsed": true,
        "trusted": false
      },
      "cell_type": "code",
      "source": [
        "# [ ] close rainbow.txt\n",
        "rainbow_text.close()\n"
      ],
      "execution_count": null,
      "outputs": []
    },
    {
      "metadata": {
        "trusted": false
      },
      "cell_type": "code",
      "source": [
        "# [ ] print the first 3 colors\n",
        "print(color1+color2+color3)\n"
      ],
      "execution_count": 14,
      "outputs": [
        {
          "output_type": "stream",
          "name": "stdout",
          "text": [
            "red\norange\nyellow\n\n"
          ]
        }
      ]
    },
    {
      "metadata": {},
      "cell_type": "markdown",
      "source": [
        "## Concept: `.readline()` in a `while` loop\n",
        ">```python\n",
        "poem_line = poem1.readline()\n",
        "while poem_line:\n",
        "    print(poem_line.capitalized())\n",
        "    poem_line = poem1.readline()\n",
        "```  \n",
        "[![view video](https://iajupyterprodblobs.blob.core.windows.net/imagecontainer/common/play_video.png)]( http://edxinteractivepage.blob.core.windows.net/edxpages/f7cff1a7-5601-48a1-95a6-fd1fdfabd20e.html?details=[{\"src\":\"http://jupyternootbookwams.streaming.mediaservices.windows.net/4662ff60-8839-4fd7-a85d-3aba9ebf8cd3/Unit2_Section4.3b-Readlines-While_Loops.ism/manifest\",\"type\":\"application/vnd.ms-sstr+xml\"}],[{\"src\":\"http://jupyternootbookwams.streaming.mediaservices.windows.net/4662ff60-8839-4fd7-a85d-3aba9ebf8cd3/Unit2_Section4.3b-Readlines-While_Loops.vtt\",\"srclang\":\"en\",\"kind\":\"subtitles\",\"label\":\"english\"}])\n",
        "### `while .readline()` \n",
        "- while loop continues while the readline() value in poem_line returns text  \n",
        "  - A string value evaluates as True in the while loop  \n",
        "  - An empty string, '', evaluates **not True** in the while loop \n",
        "- When readline() reaches the end of the file, an empty string is returned  \n"
      ]
    },
    {
      "metadata": {},
      "cell_type": "markdown",
      "source": [
        "### Examples"
      ]
    },
    {
      "metadata": {
        "trusted": false
      },
      "cell_type": "code",
      "source": [
        "# [ ] review and run example\n",
        "# open address to file\n",
        "poem1 = open('poem1.txt', 'r')"
      ],
      "execution_count": 15,
      "outputs": []
    },
    {
      "metadata": {
        "trusted": false
      },
      "cell_type": "code",
      "source": [
        "# [ ] review and run example - use a while loop to read each line of a file \n",
        "#  remove last character ('\\n') and print as upper case\n",
        "poem_line = poem1.readline()\n"
      ],
      "execution_count": 16,
      "outputs": [
        {
          "output_type": "stream",
          "name": "stdout",
          "text": [
            "LOOPS I REPEAT\nLOOPS\nLOOPS\nLOOPS\nI REPEAT\nUNTIL I\nBREAK\n"
          ]
        }
      ]
    },
    {
      "metadata": {
        "trusted": false
      },
      "cell_type": "code",
      "source": [
        "# [ ] review and run example\n",
        "poem1.close()"
      ],
      "execution_count": 17,
      "outputs": []
    },
    {
      "metadata": {
        "collapsed": true
      },
      "cell_type": "markdown",
      "source": [
        "## Task 2: while .readline() rainbow colors\n",
        "Note: Assumes rainbow.txt has been imported in Task 1.\n",
        "\n",
        "- Open rainbow.txt as rainbow_file as read-only  \n",
        "- Read a color from each line of rainbow_file in a while loop  \n",
        "  - Print each color capitalized  \n",
        "- Close rainbow_file  "
      ]
    },
    {
      "metadata": {
        "trusted": false
      },
      "cell_type": "code",
      "source": [
        "# [ ] open rainbow.txt as rainbow_text as read-only\n",
        "rainbow_text = open('rainbow.txt','r')\n"
      ],
      "execution_count": 19,
      "outputs": []
    },
    {
      "metadata": {
        "trusted": false
      },
      "cell_type": "code",
      "source": [
        "# [ ] read the color from lines of rainbow_text in a while loop\n",
        "\n",
        "# [ ] print each color capitalized as the loop runs\n",
        "rainbow_line = rainbow_text.readline()\n",
        "while rainbow_line:\n",
        "    print(rainbow_line.upper())\n",
        "    rainbow_line = rainbow_text.readline()\n"
      ],
      "execution_count": 23,
      "outputs": [
        {
          "output_type": "stream",
          "name": "stdout",
          "text": [
            "GREEN\n\nBLUE\n\nINDIGO\n\nVIOLET\n\n"
          ]
        }
      ]
    },
    {
      "metadata": {
        "trusted": false
      },
      "cell_type": "code",
      "source": [
        "# [ ] close rainbow_text \n",
        "rainbow_text.close()\n"
      ],
      "execution_count": 25,
      "outputs": []
    },
    {
      "metadata": {},
      "cell_type": "markdown",
      "source": [
        "## Concept: `.readline()`  with `.strip()`\n",
        "[![view video](https://iajupyterprodblobs.blob.core.windows.net/imagecontainer/common/play_video.png)]( http://edxinteractivepage.blob.core.windows.net/edxpages/f7cff1a7-5601-48a1-95a6-fd1fdfabd20e.html?details=[{\"src\":\"http://jupyternootbookwams.streaming.mediaservices.windows.net/809d6b2c-1be9-4bea-8702-9eb328b9f551/Unit2_Section4.3c-Remove_Whitespace.ism/manifest\",\"type\":\"application/vnd.ms-sstr+xml\"}],[{\"src\":\"http://jupyternootbookwams.streaming.mediaservices.windows.net/809d6b2c-1be9-4bea-8702-9eb328b9f551/Unit2_Section4.3c-Remove_Whitespace.vtt\",\"srclang\":\"en\",\"kind\":\"subtitles\",\"label\":\"english\"}])\n",
        "### .strip() whitespace\n",
        "```python\n",
        "poem_line = poem1.readline().strip()\n",
        "```\n",
        "**.strip()** removes leading and trailing whitespace, including the '\\n' formatting character."
      ]
    },
    {
      "metadata": {},
      "cell_type": "markdown",
      "source": [
        "### Examples"
      ]
    },
    {
      "metadata": {
        "trusted": false
      },
      "cell_type": "code",
      "source": [
        "# [ ] review and run example\n",
        "# open address to file\n",
        "poem1 = open('poem1.txt', 'r')\n"
      ],
      "execution_count": 26,
      "outputs": []
    },
    {
      "metadata": {
        "trusted": false
      },
      "cell_type": "code",
      "source": [
        "# [ ] review and run example - readline while loop without removing '\\n'\n",
        "poem_line = poem1.readline()\n",
        "\n",
        "while poem_line:\n",
        "    print(poem_line)\n",
        "    poem_line = poem1.readline()\n",
        "\n",
        "poem1.close()"
      ],
      "execution_count": 27,
      "outputs": [
        {
          "output_type": "stream",
          "name": "stdout",
          "text": [
            "Loops I repeat\n\nloops\n\nloops\n\nloops\n\nI repeat\n\nuntil I\n\nbreak\n\n"
          ]
        }
      ]
    },
    {
      "metadata": {},
      "cell_type": "markdown",
      "source": [
        "### Now with `.strip()` to remove leading and trailing whitespace characters"
      ]
    },
    {
      "metadata": {
        "trusted": false
      },
      "cell_type": "code",
      "source": [
        "# [ ] review and run example - readline with .strip() to remove '\\n'\n",
        "poem1 = open('poem1.txt', 'r')\n",
        "poem_line = poem1.readline().strip()\n",
        "\n",
        "while poem_line:\n",
        "    print(poem_line)\n",
        "    poem_line = poem1.readline().strip()\n",
        "    \n",
        "poem1.close()"
      ],
      "execution_count": 28,
      "outputs": [
        {
          "output_type": "stream",
          "name": "stdout",
          "text": [
            "Loops I repeat\nloops\nloops\nloops\nI repeat\nuntil I\nbreak\n"
          ]
        }
      ]
    },
    {
      "metadata": {
        "collapsed": true
      },
      "cell_type": "markdown",
      "source": [
        "## Task 3: `.readline()`  with `.strip()` rainbow colors\n",
        "Note: Assumes rainbow.txt has been imported in Task 1.\n",
        "\n",
        "- Open rainbow.txt as rainbow_file as read-only  \n",
        "- Read a color from each line of rainbow_file in a while loop  \n",
        "  - Use .strip to remove the whitespace  \n",
        "  - Print each color upper case  \n",
        "- Close rainbow_file "
      ]
    },
    {
      "metadata": {
        "trusted": false
      },
      "cell_type": "code",
      "source": [
        "# [ ] open rainbow.txt as rainbow_text as read-only  \n",
        "rainbow_text = open('rainbow.txt','r')\n"
      ],
      "execution_count": 3,
      "outputs": []
    },
    {
      "metadata": {
        "trusted": false
      },
      "cell_type": "code",
      "source": [
        "# [ ] read a color from each line of rainbow_text in a while loop  \n",
        "# use .strip to remove the whitespace '\\n' character \n",
        "# print each color upper case \n",
        "rainbow_line = rainbow_text.readline().strip()\n",
        "while rainbow_line:\n",
        "    print(rainbow_line.upper())\n",
        "    rainbow_line = rainbow_text.readline().strip()\n"
      ],
      "execution_count": 4,
      "outputs": [
        {
          "output_type": "stream",
          "name": "stdout",
          "text": [
            "RED\nORANGE\nYELLOW\nGREEN\nBLUE\nINDIGO\nVIOLET\n"
          ]
        }
      ]
    },
    {
      "metadata": {
        "collapsed": true
      },
      "cell_type": "markdown",
      "source": [
        "## Concept: `.strip()` with arguments\n",
        "[![view video](https://iajupyterprodblobs.blob.core.windows.net/imagecontainer/common/play_video.png)]( http://edxinteractivepage.blob.core.windows.net/edxpages/f7cff1a7-5601-48a1-95a6-fd1fdfabd20e.html?details=[{\"src\":\"http://jupyternootbookwams.streaming.mediaservices.windows.net/98672edd-b2c5-4478-aaec-42154a5b97c8/Unit2_Section4.3d-Strip_Arguments.ism/manifest\",\"type\":\"application/vnd.ms-sstr+xml\"}],[{\"src\":\"http://jupyternootbookwams.streaming.mediaservices.windows.net/98672edd-b2c5-4478-aaec-42154a5b97c8/Unit2_Section4.3d-Strip_Arguments.vtt\",\"srclang\":\"en\",\"kind\":\"subtitles\",\"label\":\"english\"}])\n",
        "### .strip() arguments\n",
        "```python\n",
        "color = rainbow_messy.readline().strip('*\\n*')\n",
        "```\n",
        "**`.strip('*\\n')`** removes leading and training **`*`** and **\\n**."
      ]
    },
    {
      "metadata": {},
      "cell_type": "markdown",
      "source": [
        "### Examples"
      ]
    },
    {
      "metadata": {
        "trusted": false
      },
      "cell_type": "code",
      "source": [
        "# [ ] review and run example: import rainbow_messy.txt\n",
        "!curl https://raw.githubusercontent.com/MicrosoftLearning/intropython/master/rainbow_messy -o rainbow_messy.txt"
      ],
      "execution_count": 5,
      "outputs": [
        {
          "output_type": "stream",
          "name": "stderr",
          "text": [
            "  % Total    % Received % Xferd  Average Speed   Time    Time     Time  Current\n                                 Dload  Upload   Total   Spent    Left  Speed\n\n  0     0    0     0    0     0      0      0 --:--:-- --:--:-- --:--:--     0\n100    71  100    71    0     0     71      0  0:00:01 --:--:--  0:00:01   181\n"
          ]
        }
      ]
    },
    {
      "metadata": {
        "trusted": false
      },
      "cell_type": "code",
      "source": [
        "# [ ] review and run example: open file read only\n",
        "rainbow_messy = open('rainbow_messy.txt', 'r')"
      ],
      "execution_count": 6,
      "outputs": []
    },
    {
      "metadata": {
        "trusted": false
      },
      "cell_type": "code",
      "source": [
        "# [ ] review and run example: .readline() without .strip()\n",
        "\n",
        "color = rainbow_messy.readline()\n",
        "\n",
        "while color:\n",
        "    print(color)\n",
        "    color = rainbow_messy.readline()"
      ],
      "execution_count": 7,
      "outputs": [
        {
          "output_type": "stream",
          "name": "stdout",
          "text": [
            "**red**\n\n**orange**\n\n**yellow**\n\n**green**\n\n**blue**\n\n**indigo**\n\n**violet**\n\n"
          ]
        }
      ]
    },
    {
      "metadata": {
        "trusted": false
      },
      "cell_type": "code",
      "source": [
        "# [ ] review and run example: strip \"*\" and newline ('\\n')\n",
        "rainbow_messy = open('rainbow_messy.txt', 'r')\n",
        "\n",
        "color = rainbow_messy.readline().strip('*\\n')\n",
        "\n",
        "while color:\n",
        "    print(color)\n",
        "    color = rainbow_messy.readline().strip('*\\n')\n",
        "\n",
        "rainbow_messy.close()"
      ],
      "execution_count": 8,
      "outputs": [
        {
          "output_type": "stream",
          "name": "stdout",
          "text": [
            "red\norange\nyellow\ngreen\nblue\nindigo\nviolet\n"
          ]
        }
      ]
    },
    {
      "metadata": {
        "collapsed": true
      },
      "cell_type": "markdown",
      "source": [
        "## Task 4: `.strip()` with arguments\n",
        "\n",
        "- Run import of cities_messy.txt below at least once this notebook session\n",
        "- Run open cities_messy.txt below before each test of the while loop cell\n",
        "- Edit while loop to strip the colon ':' , newline and spaces\n",
        "- Close cities_messy"
      ]
    },
    {
      "metadata": {
        "trusted": false
      },
      "cell_type": "code",
      "source": [
        "# [ ] import the file\n",
        "!curl https://raw.githubusercontent.com/MicrosoftLearning/intropython/master/cities_messy -o cities_messy.txt"
      ],
      "execution_count": 14,
      "outputs": [
        {
          "output_type": "stream",
          "name": "stderr",
          "text": [
            "  % Total    % Received % Xferd  Average Speed   Time    Time     Time  Current\n                                 Dload  Upload   Total   Spent    Left  Speed\n\n  0     0    0     0    0     0      0      0 --:--:-- --:--:-- --:--:--     0\n100    77  100    77    0     0     77      0  0:00:01 --:--:--  0:00:01   411\n"
          ]
        }
      ]
    },
    {
      "metadata": {
        "trusted": false
      },
      "cell_type": "code",
      "source": [
        "# [ ] run to read the file into memory\n",
        "cities_messy = open('cities_messy.txt', 'r')\n"
      ],
      "execution_count": 25,
      "outputs": []
    },
    {
      "metadata": {
        "trusted": false
      },
      "cell_type": "code",
      "source": [
        "# [ ] edit the code to remove leading or trailing colon, newline and space characters\n",
        "line = cities_messy.readline().strip(' :\\n')\n",
        "\n",
        "while line:\n",
        "    print(line)\n",
        "    line = cities_messy.readline().strip(' :\\n')\n",
        "\n"
      ],
      "execution_count": 26,
      "outputs": [
        {
          "output_type": "stream",
          "name": "stdout",
          "text": [
            "Beijing\nCairo\nLondon\nNairobi\nNew York City\nSydney\nTokyo\n"
          ]
        }
      ]
    },
    {
      "cell_type": "code",
      "execution_count": 27,
      "metadata": {},
      "outputs": [],
      "source": [
        "cities_messy.close()"
      ]
    },
    {
      "metadata": {},
      "cell_type": "markdown",
      "source": [
        "## Task 5: `.strip()` parentheses from poem2_messy\n",
        "\n",
        "- Import https://raw.githubusercontent.com/MicrosoftLearning/intropython/master/poem2_messy as poem2_messy.txt  \n",
        "- Open poem2_messy.txt as poem2_messy in read mode  \n",
        "- Edit while loop to strip the leading and trailing parentheses & print the poem without blank lines  \n",
        "- Close poem2_messy"
      ]
    },
    {
      "metadata": {
        "trusted": false
      },
      "cell_type": "code",
      "source": [
        "# [ ] import https://raw.githubusercontent.com/MicrosoftLearning/intropython/master/poem2_messy as poem2_messy.txt  \n",
        "!curl https://raw.githubusercontent.com/MicrosoftLearning/intropython/master/poem2_messy -o poem2_messy.txt"
      ],
      "execution_count": 29,
      "outputs": [
        {
          "output_type": "stream",
          "name": "stderr",
          "text": [
            "  % Total    % Received % Xferd  Average Speed   Time    Time     Time  Current\n                                 Dload  Upload   Total   Spent    Left  Speed\n\n  0     0    0     0    0     0      0      0 --:--:-- --:--:-- --:--:--     0\n  0     0    0     0    0     0      0      0 --:--:-- --:--:-- --:--:--     0\n100    75  100    75    0     0     75      0  0:00:01 --:--:--  0:00:01   369\n"
          ]
        }
      ]
    },
    {
      "metadata": {
        "trusted": false
      },
      "cell_type": "code",
      "source": [
        "# [ ] open poem2_messy.txt as poem2_messy in read mode\n",
        "poem2_messy = open('poem2_messy.txt','r')\n"
      ],
      "execution_count": 34,
      "outputs": []
    },
    {
      "metadata": {
        "trusted": false
      },
      "cell_type": "code",
      "source": [
        "# [ ] edit while loop to strip the leading and trailing parenthesis, and newlines\n",
        "# [ ] print the poem \n",
        "line = poem2_messy.readline().strip('()\\n')\n",
        "\n",
        "while line:\n",
        "    print(line)\n",
        "    line = poem2_messy.readline().strip('()\\n')\n",
        "\n",
        "\n"
      ],
      "execution_count": 35,
      "outputs": [
        {
          "output_type": "stream",
          "name": "stdout",
          "text": [
            "while True\nI loop\nTrue\nloop\nTrue\nloop\nnot True\nFalse\nend\n"
          ]
        }
      ]
    },
    {
      "metadata": {
        "collapsed": true
      },
      "cell_type": "markdown",
      "source": [
        "[Terms of use](http://go.microsoft.com/fwlink/?LinkID=206977) &nbsp; [Privacy & cookies](https://go.microsoft.com/fwlink/?LinkId=521839) &nbsp; © 2017 Microsoft"
      ]
    }
  ],
  "metadata": {
    "anaconda-cloud": {},
    "kernelspec": {
      "name": "python3",
      "display_name": "Python 3.8.5 64-bit",
      "metadata": {
        "interpreter": {
          "hash": "3410afedb74081d81603511028deadddc25ba0f01c14e0cb891e2c2473f81884"
        }
      }
    },
    "language_info": {
      "mimetype": "text/x-python",
      "nbconvert_exporter": "python",
      "name": "python",
      "pygments_lexer": "ipython3",
      "version": "3.8.5-final",
      "file_extension": ".py",
      "codemirror_mode": {
        "version": 3,
        "name": "ipython"
      }
    }
  },
  "nbformat": 4,
  "nbformat_minor": 1
}