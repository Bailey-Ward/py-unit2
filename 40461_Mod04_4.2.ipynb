{
 "cells": [
  {
   "cell_type": "markdown",
   "metadata": {},
   "source": [
    "# Section 4.2\n",
    "## File .readlines() and .close() Methods\n",
    "- File Read as a list with `.readlines()`\n",
    "- File Closing to free resources with `.close()`\n",
    "\n",
    "----- \n",
    "\n",
    "### Student will be able to\n",
    "- Use `.readlines()` to read text from files as a list of lines\n",
    "- Use `.close` to free system resources"
   ]
  },
  {
   "cell_type": "markdown",
   "metadata": {},
   "source": [
    "## Concept: `.readlines()`\n",
    "[![view video](https://iajupyterprodblobs.blob.core.windows.net/imagecontainer/common/play_video.png)]( http://edxinteractivepage.blob.core.windows.net/edxpages/f7cff1a7-5601-48a1-95a6-fd1fdfabd20e.html?details=[{\"src\":\"http://jupyternootbookwams.streaming.mediaservices.windows.net/0cd43d02-5eac-40b5-ba2d-97f078415ddd/Unit2_Section4.2a-Readlines-Open_Text_as_List.ism/manifest\",\"type\":\"application/vnd.ms-sstr+xml\"}],[{\"src\":\"http://jupyternootbookwams.streaming.mediaservices.windows.net/0cd43d02-5eac-40b5-ba2d-97f078415ddd/Unit2_Section4.2a-Readlines-Open_Text_as_List.vtt\",\"srclang\":\"en\",\"kind\":\"subtitles\",\"label\":\"english\"}])\n",
    "\n",
    "### File read as a list with .readlines() \n",
    "Converts the lines of a file into a **list** of strings.\n",
    "\n",
    "```python\n",
    "poem_lines = poem1.readlines()\n",
    "```"
   ]
  },
  {
   "cell_type": "markdown",
   "metadata": {},
   "source": [
    "### Examples"
   ]
  },
  {
   "cell_type": "code",
   "execution_count": 1,
   "metadata": {
    "collapsed": false,
    "scrolled": false
   },
   "outputs": [
    {
     "output_type": "stream",
     "name": "stderr",
     "text": [
      "  % Total    % Received % Xferd  Average Speed   Time    Time     Time  Current\n                                 Dload  Upload   Total   Spent    Left  Speed\n\n  0     0    0     0    0     0      0      0 --:--:-- --:--:-- --:--:--     0\n100    56  100    56    0     0     56      0  0:00:01 --:--:--  0:00:01    87\n"
     ]
    }
   ],
   "source": [
    "# [ ] Run to download file to notebook\n",
    "!curl https://raw.githubusercontent.com/MicrosoftLearning/intropython/master/poem1.txt -o poem1.txt"
   ]
  },
  {
   "cell_type": "code",
   "execution_count": 2,
   "metadata": {
    "collapsed": false
   },
   "outputs": [
    {
     "output_type": "execute_result",
     "data": {
      "text/plain": [
       "['Loops I repeat\\n',\n",
       " 'loops\\n',\n",
       " 'loops\\n',\n",
       " 'loops\\n',\n",
       " 'I repeat\\n',\n",
       " 'until I\\n',\n",
       " 'break\\n']"
      ]
     },
     "metadata": {},
     "execution_count": 2
    }
   ],
   "source": [
    "# [ ] review and run example\n",
    "# open address to file\n",
    "poem1 = open('poem1.txt', 'r')\n",
    "\n",
    "# readlines and print as a list\n",
    "poem_lines = poem1.readlines()\n",
    "poem_lines"
   ]
  },
  {
   "cell_type": "code",
   "execution_count": 3,
   "metadata": {
    "collapsed": false
   },
   "outputs": [
    {
     "output_type": "stream",
     "name": "stdout",
     "text": [
      "Loops I repeat\n\nloops\n\nloops\n\nloops\n\nI repeat\n\nuntil I\n\nbreak\n\n"
     ]
    }
   ],
   "source": [
    "# [ ] review and run example\n",
    "for line in poem_lines:\n",
    "    print(line)"
   ]
  },
  {
   "cell_type": "markdown",
   "metadata": {
    "collapsed": true
   },
   "source": [
    "## Task 1: `.readlines()` \n",
    "### Open the cities file as a list\n",
    "1. **Import a list of cities using curl**  \n",
    "  a. Git the list from https://raw.githubusercontent.com/MicrosoftLearning/intropython/master/cities  \n",
    "  b. Name the list cities.txt  \n",
    "2. **Open cities.txt in read mode using a variable: cities_file**  \n",
    "3. **Read cities_file as a list variable: cities_lines using `.readlines()`**\n",
    "4. **Print each line of cities_lines by iterating the list**"
   ]
  },
  {
   "cell_type": "code",
   "execution_count": 4,
   "metadata": {
    "collapsed": false
   },
   "outputs": [
    {
     "output_type": "stream",
     "name": "stderr",
     "text": [
      "  % Total    % Received % Xferd  Average Speed   Time    Time     Time  Current\n                                 Dload  Upload   Total   Spent    Left  Speed\n\n  0     0    0     0    0     0      0      0 --:--:-- --:--:-- --:--:--     0\n  0     0    0     0    0     0      0      0 --:--:-- --:--:-- --:--:--     0\n100    56  100    56    0     0     56      0  0:00:01 --:--:--  0:00:01    91\n"
     ]
    }
   ],
   "source": [
    "# [ ] import cities\n",
    "!curl https://raw.githubusercontent.com/MicrosoftLearning/intropython/master/cities -o cities.txt\n"
   ]
  },
  {
   "cell_type": "code",
   "execution_count": 5,
   "metadata": {
    "collapsed": false
   },
   "outputs": [],
   "source": [
    "# [ ] open cities.txt as cities_file and read the file as a list: cities_lines\n",
    "cities_file = open('cities.txt','r')\n"
   ]
  },
  {
   "cell_type": "code",
   "execution_count": 8,
   "metadata": {
    "collapsed": false
   },
   "outputs": [
    {
     "output_type": "stream",
     "name": "stdout",
     "text": [
      "Beijing\n\nCairo\n\nLondon\n\nNairobi\n\nNew York City\n\nSydney\n\nTokyo\n\n"
     ]
    }
   ],
   "source": [
    "# [ ] use list iteration to print each city in cities_lines list\n",
    "for city in cities_file:\n",
    "    print(city)\n",
    "\n"
   ]
  },
  {
   "cell_type": "markdown",
   "metadata": {},
   "source": [
    "## Concept: Working with lists from .readlines()\n",
    "[![view video](https://iajupyterprodblobs.blob.core.windows.net/imagecontainer/common/play_video.png)]( http://edxinteractivepage.blob.core.windows.net/edxpages/f7cff1a7-5601-48a1-95a6-fd1fdfabd20e.html?details=[{\"src\":\"http://jupyternootbookwams.streaming.mediaservices.windows.net/ed9b1523-6d69-462c-b18c-01e5423c1e52/Unit2_Section4.2b-Readlines-Remove_Characters.ism/manifest\",\"type\":\"application/vnd.ms-sstr+xml\"}],[{\"src\":\"http://jupyternootbookwams.streaming.mediaservices.windows.net/ed9b1523-6d69-462c-b18c-01e5423c1e52/Unit2_Section4.2b-Readlines-Remove_Characters.vtt\",\"srclang\":\"en\",\"kind\":\"subtitles\",\"label\":\"english\"}])\n",
    "###  Remove newline characters from lists created using .readlines()\n",
    "```python\n",
    "for line in poem_lines:\n",
    "    poem_lines[count] = line[:-1]\n",
    "    count += 1\n",
    "```\n",
    "**`line[:-1]`** sets the end point at the last character of the string, the result is the **`'\\n'`** (newline) character is omitted.\n",
    "\n",
    "| list item | list item contents | \n",
    "|-----|-----|\n",
    "| poem_lines[0] | 'Loops I repeat\\n' |  \n",
    "| poem_lines[1] | 'loops\\n' |  \n",
    "| poem_lines[2] | 'loops\\n' | \n",
    "| poem_lines[3] | 'I repeat\\n' | \n",
    "|... | ... | "
   ]
  },
  {
   "cell_type": "markdown",
   "metadata": {},
   "source": [
    "### Examples\n",
    "Note: The examples assume that poem1.txt was imported in the first example above."
   ]
  },
  {
   "cell_type": "code",
   "execution_count": 9,
   "metadata": {
    "collapsed": false
   },
   "outputs": [
    {
     "output_type": "stream",
     "name": "stdout",
     "text": [
      "['Loops I repeat\\n', 'loops\\n', 'loops\\n', 'loops\\n', 'I repeat\\n', 'until I\\n', 'break\\n']\n"
     ]
    }
   ],
   "source": [
    "# [ ] review and run examples\n",
    "# [ ] re-open file and read file as a list of strings\n",
    "poem1 = open('poem1.txt', 'r')\n",
    "poem_lines = poem1.readlines()\n",
    "print(poem_lines)"
   ]
  },
  {
   "cell_type": "code",
   "execution_count": 10,
   "metadata": {
    "collapsed": false
   },
   "outputs": [
    {
     "output_type": "stream",
     "name": "stdout",
     "text": [
      "Loops I repeat\n\nloops\n\nloops\n\nloops\n\nI repeat\n\nuntil I\n\nbreak\n\n"
     ]
    }
   ],
   "source": [
    "# [ ] print each list item \n",
    "for line in poem_lines:\n",
    "    print(line)"
   ]
  },
  {
   "cell_type": "code",
   "execution_count": 11,
   "metadata": {
    "collapsed": false
   },
   "outputs": [
    {
     "output_type": "stream",
     "name": "stdout",
     "text": [
      "['Loops I repeat', 'loops', 'loops', 'loops', 'I repeat', 'until I', 'break']\n"
     ]
    }
   ],
   "source": [
    "# [ ] remove the last character of each list item, which is \"\\n\"\n",
    "count = 0\n",
    "\n",
    "for line in poem_lines:\n",
    "    poem_lines[count] = line[:-1]\n",
    "    count += 1\n",
    "\n",
    "print(poem_lines)"
   ]
  },
  {
   "cell_type": "code",
   "execution_count": 12,
   "metadata": {
    "collapsed": false
   },
   "outputs": [
    {
     "output_type": "stream",
     "name": "stdout",
     "text": [
      "Loops I repeat\nloops\nloops\nloops\nI repeat\nuntil I\nbreak\n"
     ]
    }
   ],
   "source": [
    "# [ ] print each list item \n",
    "for line in poem_lines:\n",
    "    print(line)"
   ]
  },
  {
   "cell_type": "markdown",
   "metadata": {
    "collapsed": true
   },
   "source": [
    "## Task 2: Remove newline characters from cities lists created using .readlines()\n",
    "- This task assumes that cites.txt has been imported in Task 1 above\n",
    "- In Task 1, the cities were printed with a blank line between each city - this task removes the blank lines\n"
   ]
  },
  {
   "cell_type": "code",
   "execution_count": 15,
   "metadata": {
    "collapsed": false
   },
   "outputs": [
    {
     "output_type": "execute_result",
     "data": {
      "text/plain": [
       "['Beijing\\n',\n",
       " 'Cairo\\n',\n",
       " 'London\\n',\n",
       " 'Nairobi\\n',\n",
       " 'New York City\\n',\n",
       " 'Sydney\\n',\n",
       " 'Tokyo\\n']"
      ]
     },
     "metadata": {},
     "execution_count": 15
    }
   ],
   "source": [
    "# [ ] re-open file and read file as a list of strings \n",
    "cities_file = open('cities.txt','r')\n",
    "# [ ] open cities.txt as cities_file and read the file as a list: cities_lines\n",
    "cities_lines = list(cities_file)\n",
    "cities_lines"
   ]
  },
  {
   "cell_type": "code",
   "execution_count": 16,
   "metadata": {
    "collapsed": false
   },
   "outputs": [
    {
     "output_type": "stream",
     "name": "stdout",
     "text": [
      "['Beijing', 'Cairo', 'London', 'Nairobi', 'New York City', 'Sydney', 'Tokyo']\n"
     ]
    }
   ],
   "source": [
    "# [ ] remove the last character, \"\\n\", of each cities_lines list item \n",
    "count = 0\n",
    "for line in cities_lines:\n",
    "    cities_lines[count] = line[:-1]\n",
    "    count += 1\n",
    "print(cities_lines)\n"
   ]
  },
  {
   "cell_type": "code",
   "execution_count": 17,
   "metadata": {
    "collapsed": false
   },
   "outputs": [
    {
     "output_type": "stream",
     "name": "stdout",
     "text": [
      "Beijing\nCairo\nLondon\nNairobi\nNew York City\nSydney\nTokyo\n"
     ]
    }
   ],
   "source": [
    "# [ ] print each list item in cities_lines\n",
    "for line in cities_lines:\n",
    "    print(line)"
   ]
  },
  {
   "cell_type": "markdown",
   "metadata": {},
   "source": [
    "## Concept: `.close()`\n",
    "[![view video](https://iajupyterprodblobs.blob.core.windows.net/imagecontainer/common/play_video.png)]( http://edxinteractivepage.blob.core.windows.net/edxpages/f7cff1a7-5601-48a1-95a6-fd1fdfabd20e.html?details=[{\"src\":\"http://jupyternootbookwams.streaming.mediaservices.windows.net/50a925e8-25e2-4bfa-936b-e2d181af36f0/Unit2_Section4.2c-File_Close_Method.ism/manifest\",\"type\":\"application/vnd.ms-sstr+xml\"}],[{\"src\":\"http://jupyternootbookwams.streaming.mediaservices.windows.net/50a925e8-25e2-4bfa-936b-e2d181af36f0/Unit2_Section4.2c-File_Close_Method.vtt\",\"srclang\":\"en\",\"kind\":\"subtitles\",\"label\":\"english\"}])\n",
    "### File .close() method frees resources \n",
    "The file.close() method removes the reference created by the file open() function. \n",
    "\n",
    "```python  \n",
    "poem1.close()\n",
    "```  "
   ]
  },
  {
   "cell_type": "markdown",
   "metadata": {},
   "source": [
    "### Examples  \n",
    "Note: The examples assume that poem1.txt was imported in the first example above."
   ]
  },
  {
   "cell_type": "code",
   "execution_count": 19,
   "metadata": {
    "collapsed": false
   },
   "outputs": [],
   "source": [
    "# [ ] review and run example: open and readlines of poem1.txt\n",
    "poem1 = open('poem1.txt', 'r')"
   ]
  },
  {
   "cell_type": "code",
   "execution_count": 20,
   "metadata": {
    "collapsed": false
   },
   "outputs": [
    {
     "output_type": "stream",
     "name": "stdout",
     "text": [
      "['Loops I repeat\\n', 'loops\\n', 'loops\\n', 'loops\\n', 'I repeat\\n', 'until I\\n', 'break\\n']\n"
     ]
    }
   ],
   "source": [
    "# [ ] review and run example: readlines breaks if file is no longer open\n",
    "\n",
    "poem_lines = poem1.readlines()\n",
    "print(poem_lines)"
   ]
  },
  {
   "cell_type": "code",
   "execution_count": 22,
   "metadata": {
    "collapsed": false
   },
   "outputs": [],
   "source": [
    "# [ ] review and run example: Close poem1\n",
    "poem1.close()\n"
   ]
  },
  {
   "cell_type": "markdown",
   "metadata": {
    "collapsed": true
   },
   "source": [
    "## Task 3: File .close() \n",
    "Write each item in its own cell.\n",
    "- Open cities.txt as cities_file  \n",
    "- Read the lines as cities_lines\n",
    "- Print the cities that **start with the letter \"D\" or greater**  \n",
    "- Close cities_file\n",
    "- Test that file is closed"
   ]
  },
  {
   "cell_type": "code",
   "execution_count": null,
   "metadata": {
    "collapsed": false
   },
   "outputs": [],
   "source": [
    "# [ ] open cities.txt as cities_file\n",
    "cities_file = open('cities.txt','r')\n"
   ]
  },
  {
   "cell_type": "code",
   "execution_count": null,
   "metadata": {
    "collapsed": false
   },
   "outputs": [],
   "source": [
    "# [ ] read the lines as cities_lines\n",
    "cities_lines = list(cities_file)\n"
   ]
  },
  {
   "cell_type": "code",
   "execution_count": 24,
   "metadata": {
    "collapsed": false
   },
   "outputs": [
    {
     "output_type": "stream",
     "name": "stdout",
     "text": [
      "London\nNairobi\nNew York City\nSydney\nTokyo\n"
     ]
    }
   ],
   "source": [
    "# [ ] print the cities that start with the letter \"D\" or greater\n",
    "for city in cities_lines:\n",
    "    if city > \"D\":\n",
    "        print(city)\n",
    "\n"
   ]
  },
  {
   "cell_type": "code",
   "execution_count": null,
   "metadata": {
    "collapsed": false
   },
   "outputs": [],
   "source": [
    "# [ ] test that file is closed\n",
    "citylines = cit\n"
   ]
  },
  {
   "cell_type": "code",
   "execution_count": 26,
   "metadata": {
    "collapsed": false
   },
   "outputs": [
    {
     "output_type": "execute_result",
     "data": {
      "text/plain": [
       "<function TextIOWrapper.close()>"
      ]
     },
     "metadata": {},
     "execution_count": 26
    }
   ],
   "source": [
    "# [ ] close cities_file\n",
    "cities_file.close\n"
   ]
  },
  {
   "cell_type": "markdown",
   "metadata": {
    "collapsed": true
   },
   "source": [
    "## Task 4: readlines() poem2  \n",
    "Write each item in its own cell.\n",
    "- Import https://raw.githubusercontent.com/MicrosoftLearning/intropython/master/poem2.txt as poem2.txt  \n",
    "- Open poem2.txt as poem2_file in read mode\n",
    "- Create a list of strings, called poem2_lines, from each line of poem2_text (use **.readlines()**)  \n",
    "- Remove the newline character for each list item in poem2_lines  \n",
    "- Print the poem2 lines in reverse order  "
   ]
  },
  {
   "cell_type": "code",
   "execution_count": 1,
   "metadata": {
    "collapsed": false
   },
   "outputs": [
    {
     "output_type": "stream",
     "name": "stderr",
     "text": [
      "  % Total    % Received % Xferd  Average Speed   Time    Time     Time  Current\n                                 Dload  Upload   Total   Spent    Left  Speed\n\n  0     0    0     0    0     0      0      0 --:--:-- --:--:-- --:--:--     0\n100    57  100    57    0     0     57      0  0:00:01 --:--:--  0:00:01   243\n"
     ]
    }
   ],
   "source": [
    "# [ ] import https://raw.githubusercontent.com/MicrosoftLearning/intropython/master/poem2.txt as poem2.txt\n",
    "!curl https://raw.githubusercontent.com/MicrosoftLearning/intropython/master/poem2.txt -o poem2.txt\n"
   ]
  },
  {
   "cell_type": "code",
   "execution_count": 2,
   "metadata": {
    "collapsed": false
   },
   "outputs": [
    {
     "output_type": "stream",
     "name": "stdout",
     "text": [
      "<_io.TextIOWrapper name='poem2.txt' mode='r' encoding='cp1252'>\n"
     ]
    }
   ],
   "source": [
    "# [ ] open poem2.txt as poem2_text in read mode\n",
    "poem2_text = open('poem2.txt','r')\n",
    "print(poem2_text)"
   ]
  },
  {
   "cell_type": "code",
   "execution_count": 3,
   "metadata": {
    "collapsed": false
   },
   "outputs": [
    {
     "output_type": "stream",
     "name": "stdout",
     "text": [
      "['while True\\n', 'I loop\\n', 'True\\n', 'loop\\n', 'True\\n', 'loop\\n', 'not True\\n', 'False\\n', 'end\\n']\n"
     ]
    }
   ],
   "source": [
    "# [ ] create a list of strings, called poem2_lines, from each line of poem2_text\n",
    "poem2_lines = list(poem2_text)\n",
    "print(poem2_lines)"
   ]
  },
  {
   "cell_type": "code",
   "execution_count": 4,
   "metadata": {
    "collapsed": false
   },
   "outputs": [
    {
     "output_type": "stream",
     "name": "stdout",
     "text": [
      "['while True', 'I loop', 'True', 'loop', 'True', 'loop', 'not True', 'False', 'end']\n"
     ]
    }
   ],
   "source": [
    "# [ ] remove the newline character for each list item in poem2_lines\n",
    "count = 0\n",
    "for line in poem2_lines:\n",
    "    poem2_lines[count] = line[:-1]\n",
    "    count +=1\n",
    "print(poem2_lines)\n",
    "\n"
   ]
  },
  {
   "cell_type": "code",
   "execution_count": 5,
   "metadata": {
    "collapsed": false
   },
   "outputs": [
    {
     "output_type": "execute_result",
     "data": {
      "text/plain": [
       "['end',\n",
       " 'False',\n",
       " 'not True',\n",
       " 'loop',\n",
       " 'True',\n",
       " 'loop',\n",
       " 'True',\n",
       " 'I loop',\n",
       " 'while True']"
      ]
     },
     "metadata": {},
     "execution_count": 5
    }
   ],
   "source": [
    "# [ ] print the poem2 lines in reverse order\n",
    "poem2_lines[::-1]\n"
   ]
  },
  {
   "cell_type": "markdown",
   "metadata": {
    "collapsed": false
   },
   "source": [
    "[Terms of use](http://go.microsoft.com/fwlink/?LinkID=206977) &nbsp; [Privacy & cookies](https://go.microsoft.com/fwlink/?LinkId=521839) &nbsp; © 2017 Microsoft"
   ]
  }
 ],
 "metadata": {
  "anaconda-cloud": {},
  "kernelspec": {
   "name": "python3",
   "display_name": "Python 3.8.5 64-bit",
   "metadata": {
    "interpreter": {
     "hash": "3410afedb74081d81603511028deadddc25ba0f01c14e0cb891e2c2473f81884"
    }
   }
  },
  "language_info": {
   "codemirror_mode": {
    "name": "ipython",
    "version": 3
   },
   "file_extension": ".py",
   "mimetype": "text/x-python",
   "name": "python",
   "nbconvert_exporter": "python",
   "pygments_lexer": "ipython3",
   "version": "3.8.5-final"
  }
 },
 "nbformat": 4,
 "nbformat_minor": 1
}