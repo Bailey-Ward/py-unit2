{
  "cells": [
    {
      "metadata": {},
      "cell_type": "markdown",
      "source": [
        "# Section 2.3\n",
        "## List Insert \n",
        "\n",
        "- List Creation\n",
        "- List Access\n",
        "- List Append\n",
        "- **List Modify and Insert**\n",
        "- List Delete\n",
        "----- \n",
        "\n",
        "### Student will be able to\n",
        "- Create lists\n",
        "- Access items in a list\n",
        "- Add items to the end of a list\n",
        "- **Modify and insert items into a list**\n",
        "- Delete items from a list"
      ]
    },
    {
      "metadata": {},
      "cell_type": "markdown",
      "source": [
        "## Concept: Insert a new value for an index\n",
        "[![view video](https://iajupyterprodblobs.blob.core.windows.net/imagecontainer/common/play_video.png)]( http://edxinteractivepage.blob.core.windows.net/edxpages/f7cff1a7-5601-48a1-95a6-fd1fdfabd20e.html?details=[{\"src\":\"http://jupyternootbookwams.streaming.mediaservices.windows.net/219b35cf-03b5-4b57-8fbc-f5864281312d/Unit2_Section2.3a-Overwriting_an_Index.ism/manifest\",\"type\":\"application/vnd.ms-sstr+xml\"}],[{\"src\":\"http://jupyternootbookwams.streaming.mediaservices.windows.net/219b35cf-03b5-4b57-8fbc-f5864281312d/Unit2_Section2.3a-Overwriting_an_Index.vtt\",\"srclang\":\"en\",\"kind\":\"subtitles\",\"label\":\"english\"}])\n",
        "### Overwrite a specific index in a list\n",
        "```python\n",
        "party_list[2] = \"Tobias\"\n",
        "```\n",
        "- **Overwrites** existing index\n",
        "- **Cannot** use to **Append** a new index to the list\n"
      ]
    },
    {
      "metadata": {},
      "cell_type": "markdown",
      "source": [
        "### Examples"
      ]
    },
    {
      "metadata": {
        "trusted": false
      },
      "cell_type": "code",
      "source": [
        "# [ ] review and run example\n",
        "# the list before Insert\n",
        "party_list = [\"Joana\", \"Alton\", \"Tobias\"]\n",
        "print(\"party_list before: \", party_list)\n",
        "\n",
        "# the list after Insert\n",
        "party_list[1] = \"Colette\"\n",
        "print(\"party_list after:  \", party_list)"
      ],
      "execution_count": 1,
      "outputs": [
        {
          "output_type": "stream",
          "name": "stdout",
          "text": [
            "party_list before:  ['Joana', 'Alton', 'Tobias']\nparty_list after:   ['Joana', 'Colette', 'Tobias']\n"
          ]
        }
      ]
    },
    {
      "metadata": {
        "trusted": false
      },
      "cell_type": "code",
      "source": [
        "# [ ] review and run example\n",
        "party_list = [\"Joana\", \"Alton\", \"Tobias\"]\n",
        "print(\"before:\",party_list)\n",
        "\n",
        "# modify index value\n",
        "party_list[1] = party_list[1] + \" Derosa\"\n",
        "print(\"\\nafter:\", party_list)"
      ],
      "execution_count": 2,
      "outputs": [
        {
          "output_type": "stream",
          "name": "stdout",
          "text": [
            "before: ['Joana', 'Alton', 'Tobias']\n\nafter: ['Joana', 'Alton Derosa', 'Tobias']\n"
          ]
        }
      ]
    },
    {
      "metadata": {},
      "cell_type": "markdown",
      "source": [
        "### Example: **IndexError**  "
      ]
    },
    {
      "metadata": {
        "trusted": false
      },
      "cell_type": "code",
      "source": [
        "# IndexError Example\n",
        "# [ ] review and run example which results in an IndexError\n",
        "# if result is NameError run cell above before running this cell\n",
        "\n",
        "# IndexError trying to append to end of list\n",
        "party_list[3] = \"Alton\"\n",
        "print(party_list)"
      ],
      "execution_count": 3,
      "outputs": [
        {
          "output_type": "error",
          "ename": "IndexError",
          "evalue": "list assignment index out of range",
          "traceback": [
            "\u001b[1;31m---------------------------------------------------------------------------\u001b[0m",
            "\u001b[1;31mIndexError\u001b[0m                                Traceback (most recent call last)",
            "\u001b[1;32m<ipython-input-3-a57c1210d89e>\u001b[0m in \u001b[0;36m<module>\u001b[1;34m\u001b[0m\n\u001b[0;32m      4\u001b[0m \u001b[1;33m\u001b[0m\u001b[0m\n\u001b[0;32m      5\u001b[0m \u001b[1;31m# IndexError trying to append to end of list\u001b[0m\u001b[1;33m\u001b[0m\u001b[1;33m\u001b[0m\u001b[1;33m\u001b[0m\u001b[0m\n\u001b[1;32m----> 6\u001b[1;33m \u001b[0mparty_list\u001b[0m\u001b[1;33m[\u001b[0m\u001b[1;36m3\u001b[0m\u001b[1;33m]\u001b[0m \u001b[1;33m=\u001b[0m \u001b[1;34m\"Alton\"\u001b[0m\u001b[1;33m\u001b[0m\u001b[1;33m\u001b[0m\u001b[0m\n\u001b[0m\u001b[0;32m      7\u001b[0m \u001b[0mprint\u001b[0m\u001b[1;33m(\u001b[0m\u001b[0mparty_list\u001b[0m\u001b[1;33m)\u001b[0m\u001b[1;33m\u001b[0m\u001b[1;33m\u001b[0m\u001b[0m\n",
            "\u001b[1;31mIndexError\u001b[0m: list assignment index out of range"
          ]
        }
      ]
    },
    {
      "metadata": {
        "trusted": false
      },
      "cell_type": "code",
      "source": [
        "# [ ] review and run example changes the data type of an element\n",
        "# replace a string with a number (int)\n",
        "single_digits = [\"zero\", \"one\", \"two\", \"three\", \"four\", \"five\", \"six\", \"seven\", \"eight\", \"nine\"] \n",
        "print(\"single_digits: \", single_digits)\n",
        "print(\"single_digits[3]: \", single_digits[3], type(single_digits[3]),\"\\n\")\n",
        "\n",
        "# replace string with an int\n",
        "single_digits[3] = 3\n",
        "print(\"single_digits: \", single_digits)\n",
        "print(\"single_digits[3]: \", single_digits[3], type(single_digits[3]))"
      ],
      "execution_count": 4,
      "outputs": [
        {
          "output_type": "stream",
          "name": "stdout",
          "text": [
            "single_digits:  ['zero', 'one', 'two', 'three', 'four', 'five', 'six', 'seven', 'eight', 'nine']\nsingle_digits[3]:  three <class 'str'> \n\nsingle_digits:  ['zero', 'one', 'two', 3, 'four', 'five', 'six', 'seven', 'eight', 'nine']\nsingle_digits[3]:  3 <class 'int'>\n"
          ]
        }
      ]
    },
    {
      "metadata": {
        "collapsed": true
      },
      "cell_type": "markdown",
      "source": [
        "## Task 1: Replace items in a list\n",
        "- Create a list, **`three_num`**, containing 3 single digit integers\n",
        "- Print three_num\n",
        "- Check if index 0 value is < 5\n",
        "  - if < 5 , replace index 0 with a string: \"small\"\n",
        "  - else, replace index 0 with a string: \"large\"\n",
        "- Print three_num"
      ]
    },
    {
      "metadata": {
        "trusted": false
      },
      "cell_type": "code",
      "source": [
        "# [ ] complete \"replace items in a list\" task\n",
        "three_num = [3,6,9]\n",
        "print(three_num)\n",
        "\n",
        "if three_num[0] < 5:\n",
        "    three_num[0] = \"small\"\n",
        "else:\n",
        "    three_num[0] = \"large\"\n",
        "\n",
        "print(three_num) \n"
      ],
      "execution_count": 9,
      "outputs": [
        {
          "output_type": "stream",
          "name": "stdout",
          "text": [
            "[3, 6, 9]\n['small', 6, 9]\n"
          ]
        }
      ]
    },
    {
      "metadata": {},
      "cell_type": "markdown",
      "source": [
        "## Function Challenge: Create replacement function\n",
        "- Create a function, **str_replace**, that takes 2 arguments: int_list and index \n",
        "  - int_list is a list of single digit integers\n",
        "  - index is the index that will be checked - such as with int_list[index]\n",
        "- Function replicates purpose of task \"replace items in a list\" above and replaces an integer with a string \"small\" or \"large\"\n",
        "- Return str_list\n",
        "\n",
        "Test the function!"
      ]
    },
    {
      "metadata": {
        "trusted": false
      },
      "cell_type": "code",
      "source": [
        "# [ ]  create challenge function\n",
        "\n",
        "\n",
        "def str_replace(int_list, index):\n",
        "    if int_list[index] < 5:\n",
        "        int_list[index] = \"small\"\n",
        "    else:\n",
        "        int_list[index] = \"large\"\n",
        "    return(int_list)\n",
        "\n",
        "original_list = [1,4,5,6,9]\n",
        "user_index = int(input(\"What index would you like to check? (0-4)\"))\n",
        "\n",
        "print(str_replace(original_list,user_index))"
      ],
      "execution_count": 12,
      "outputs": [
        {
          "output_type": "stream",
          "name": "stdout",
          "text": [
            "[1, 'small', 5, 6, 9]\n"
          ]
        }
      ]
    },
    {
      "source": [
        "## Task 2: Modify items in a list\n",
        "- Create a list, **`three_words`**, containing 3 different capitalized word strings\n",
        "- Print three_words\n",
        "- Modify the first item in three_words to uppercase\n",
        "- Modify the third item to swapcase\n",
        "- Print three_words"
      ],
      "cell_type": "markdown",
      "metadata": {
        "collapsed": true
      }
    },
    {
      "metadata": {
        "trusted": false
      },
      "cell_type": "code",
      "source": [
        "# [ ] complete coding task described above\n",
        "three_words = [\"Red\",\"Green\",\"Blue\"]\n",
        "print(three_words)\n",
        "\n",
        "three_words[0] = three_words[0].upper()\n",
        "three_words[2] = three_words[2].swapcase()\n",
        "\n",
        "print(three_words)\n"
      ],
      "execution_count": 15,
      "outputs": [
        {
          "output_type": "stream",
          "name": "stdout",
          "text": [
            "['Red', 'Green', 'Blue']\n['RED', 'Green', 'bLUE']\n"
          ]
        }
      ]
    },
    {
      "metadata": {},
      "cell_type": "markdown",
      "source": [
        "## Concept: Insert items into a list\n",
        "[![view video](https://iajupyterprodblobs.blob.core.windows.net/imagecontainer/common/play_video.png)]( http://edxinteractivepage.blob.core.windows.net/edxpages/f7cff1a7-5601-48a1-95a6-fd1fdfabd20e.html?details=[{\"src\":\"http://jupyternootbookwams.streaming.mediaservices.windows.net/659b9cd2-1e84-4ead-8a69-015c737577cd/Unit2_Section2.3b-Inserting_Items_into_Lists.ism/manifest\",\"type\":\"application/vnd.ms-sstr+xml\"}],[{\"src\":\"http://jupyternootbookwams.streaming.mediaservices.windows.net/659b9cd2-1e84-4ead-8a69-015c737577cd/Unit2_Section2.3b-Inserting_Items_into_Lists.vtt\",\"srclang\":\"en\",\"kind\":\"subtitles\",\"label\":\"english\"}])\n",
        "### Use `.insert()` to define an index to insert an item\n",
        "```python\n",
        "party_list.insert(2,\"Tobias\")\n",
        "```\n",
        "- Inserts, **doesn't overwrite**\n",
        "- **Increases index by 1**, at and above the insertion point\n",
        "- **Can** use to **Append** a new index to the end of the list\n"
      ]
    },
    {
      "metadata": {},
      "cell_type": "markdown",
      "source": [
        "### Examples"
      ]
    },
    {
      "metadata": {
        "trusted": false
      },
      "cell_type": "code",
      "source": [
        "# [ ] review and run example\n",
        "# the list before Insert\n",
        "party_list = [\"Joana\", \"Alton\", \"Tobias\"]\n",
        "print(\"party_list before: \", party_list)\n",
        "print(\"index 1 is\", party_list[1], \"\\nindex 2 is\", party_list[2], \"\\n\")\n",
        "\n",
        "# the list after Insert\n",
        "party_list.insert(1,\"Colette\")\n",
        "print(\"party_list after:  \", party_list)\n",
        "print(\"index 1 is\", party_list[1], \"\\nindex 2 is\", party_list[2], \"\\nindex 3 is\", party_list[3])"
      ],
      "execution_count": 16,
      "outputs": [
        {
          "output_type": "stream",
          "name": "stdout",
          "text": [
            "party_list before:  ['Joana', 'Alton', 'Tobias']\nindex 1 is Alton \nindex 2 is Tobias \n\nparty_list after:   ['Joana', 'Colette', 'Alton', 'Tobias']\nindex 1 is Colette \nindex 2 is Alton \nindex 3 is Tobias\n"
          ]
        }
      ]
    },
    {
      "metadata": {
        "collapsed": true
      },
      "cell_type": "markdown",
      "source": [
        "## Task 3: `insert()` input into a list "
      ]
    },
    {
      "metadata": {
        "trusted": false
      },
      "cell_type": "code",
      "source": [
        "# [ ] insert a name from user input into the party_list in the second position (index 1)\n",
        "party_list = [\"Joana\", \"Alton\", \"Tobias\"]\n",
        "party_list.insert(1,input(\"Insert a name:\"))\n",
        "# [ ] print the updated list\n",
        "print(party_list)\n"
      ],
      "execution_count": 17,
      "outputs": [
        {
          "output_type": "stream",
          "name": "stdout",
          "text": [
            "['Joana', 'Bailey', 'Alton', 'Tobias']\n"
          ]
        }
      ]
    },
    {
      "metadata": {},
      "cell_type": "markdown",
      "source": [
        "## Task 4: Fix the error\n"
      ]
    },
    {
      "metadata": {
        "trusted": false
      },
      "cell_type": "code",
      "source": [
        "# [ ] Fix the Error\n",
        "tree_list = [\"oak\"]\n",
        "print(\"tree_list before =\", tree_list)\n",
        "tree_list.insert(1,\"pine\")\n",
        "print(\"tree_list after  =\", tree_list)\n",
        "\n"
      ],
      "execution_count": 1,
      "outputs": [
        {
          "output_type": "stream",
          "name": "stdout",
          "text": [
            "tree_list before = ['oak']\ntree_list after  = ['oak', 'pine']\n"
          ]
        }
      ]
    },
    {
      "metadata": {},
      "cell_type": "markdown",
      "source": [
        "[Terms of use](http://go.microsoft.com/fwlink/?LinkID=206977) &nbsp; [Privacy & cookies](https://go.microsoft.com/fwlink/?LinkId=521839) &nbsp; © 2017 Microsoft"
      ]
    }
  ],
  "metadata": {
    "anaconda-cloud": {},
    "kernelspec": {
      "name": "python3",
      "display_name": "Python 3.8.5 64-bit",
      "metadata": {
        "interpreter": {
          "hash": "3410afedb74081d81603511028deadddc25ba0f01c14e0cb891e2c2473f81884"
        }
      }
    },
    "language_info": {
      "mimetype": "text/x-python",
      "nbconvert_exporter": "python",
      "name": "python",
      "pygments_lexer": "ipython3",
      "version": "3.8.5-final",
      "file_extension": ".py",
      "codemirror_mode": {
        "version": 3,
        "name": "ipython"
      }
    }
  },
  "nbformat": 4,
  "nbformat_minor": 1
}