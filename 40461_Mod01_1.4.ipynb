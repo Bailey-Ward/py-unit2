{
  "cells": [
    {
      "metadata": {},
      "cell_type": "markdown",
      "source": [
        "# Section 1.4\n",
        "## String Methods\n",
        "- Accessing string characters with index\n",
        "- Accessing substrings with index slicing\n",
        "- Iterating through characters of a string\n",
        "- **More string methods**\n",
        "\n",
        "----- \n",
        "\n",
        "### Student will be able to\n",
        "- Work with string characters\n",
        "- Slice strings into substrings\n",
        "- Iterate through string characters\n",
        "- **Use string methods**\n",
        "  - `len()`\n",
        "  - `.count()`\n",
        "  - `.find()`"
      ]
    },
    {
      "metadata": {},
      "cell_type": "markdown",
      "source": [
        "## Concept: Methods of Returning String Information\n",
        "[![view video](https://iajupyterprodblobs.blob.core.windows.net/imagecontainer/common/play_video.png)]( http://edxinteractivepage.blob.core.windows.net/edxpages/f7cff1a7-5601-48a1-95a6-fd1fdfabd20e.html?details=[{\"src\":\"http://jupyternootbookwams.streaming.mediaservices.windows.net/c300e46e-b3c7-4bbf-8117-e72b33998cd3/Unit2_Section1.4a-String_Methods-Length.ism/manifest\",\"type\":\"application/vnd.ms-sstr+xml\"}],[{\"src\":\"http://jupyternootbookwams.streaming.mediaservices.windows.net/c300e46e-b3c7-4bbf-8117-e72b33998cd3/Unit2_Section1.4a-String_Methods-Length.vtt\",\"srclang\":\"en\",\"kind\":\"subtitles\",\"label\":\"english\"}])\n",
        "### len()  \n",
        "Returns a string's length. \n",
        "### .count()  \n",
        "Returns the number of times a character or substring occurs.\n",
        "### .find()   \n",
        "Returns index of first character or substring match.\n",
        "Returns **-1** if no match found.\n",
        "\n",
        "```python\n",
        "work_tip = \"save your code\"\n",
        "\n",
        "# number of characters\n",
        "len(work_tip)\n",
        "\n",
        "# letter \"e\" occurrences\n",
        "work_tip.count(\"e\")\n",
        "\n",
        "# find the index of the first space\n",
        "work_tip.find(\" \")\n",
        "\n",
        "# find the index of \"u\" searching a slice work_tip[3:6]\n",
        "work_tip.find(\"u\",3,6)\n",
        "```  \n",
        "These methods **return** information that we can use to sort or manipulate strings."
      ]
    },
    {
      "metadata": {},
      "cell_type": "markdown",
      "source": [
        "### Examples  \n",
        "Run each example cell in order."
      ]
    },
    {
      "metadata": {
        "trusted": false
      },
      "cell_type": "code",
      "source": [
        "# [ ] review and run example\n",
        "work_tip = \"save your code\"\n",
        "\n",
        "print(\"number of characters in string\")\n",
        "print(len(work_tip),\"\\n\")\n",
        "\n",
        "print('letter \"e\" occurrences')\n",
        "print(work_tip.count(\"e\"),\"\\n\")\n",
        "\n",
        "print(\"find the index of the first space\")\n",
        "print(work_tip.find(\" \"),\"\\n\")\n",
        "\n",
        "print('find the index of \"u\" searching a slice work_tip[3:9] -', work_tip[3:9])\n",
        "print(work_tip.find(\"u\",3,9),\"\\n\")\n",
        "\n",
        "print('find the index of \"e\" searching a slice work_tip[4:] -', work_tip[4:])\n",
        "print(work_tip.find(\"e\",4))"
      ],
      "execution_count": 1,
      "outputs": [
        {
          "output_type": "stream",
          "name": "stdout",
          "text": [
            "number of characters in string\n14 \n\nletter \"e\" occurrences\n2 \n\nfind the index of the first space\n4 \n\nfind the index of \"u\" searching a slice work_tip[3:9] - e your\n7 \n\nfind the index of \"e\" searching a slice work_tip[4:] -  your code\n13\n"
          ]
        }
      ]
    },
    {
      "metadata": {},
      "cell_type": "markdown",
      "source": [
        "### len()  \n",
        "Returns a string's length."
      ]
    },
    {
      "metadata": {
        "trusted": false
      },
      "cell_type": "code",
      "source": [
        "# [ ] review and run example\n",
        "work_tip = \"good code is commented code\"\n",
        "\n",
        "print(\"The sentence: \\\"\" + work_tip + \"\\\" has character length = \", len(work_tip) )"
      ],
      "execution_count": 2,
      "outputs": [
        {
          "output_type": "stream",
          "name": "stdout",
          "text": [
            "The sentence: \"good code is commented code\" has character length =  27\n"
          ]
        }
      ]
    },
    {
      "metadata": {
        "trusted": false
      },
      "cell_type": "code",
      "source": [
        "# [ ] review and run example\n",
        "# find the middle index\n",
        "work_tip = \"good code is commented code\"\n",
        "mid_pt = int(len(work_tip)/2)\n",
        "\n",
        "# print 1st half of sentence\n",
        "print(work_tip[:mid_pt])\n",
        "\n",
        "# print the 2nd half of sentence\n",
        "print(work_tip[mid_pt:])"
      ],
      "execution_count": 3,
      "outputs": [
        {
          "output_type": "stream",
          "name": "stdout",
          "text": [
            "good code is \ncommented code\n"
          ]
        }
      ]
    },
    {
      "metadata": {},
      "cell_type": "markdown",
      "source": [
        "### .count()  \n",
        "Returns the number of times a character or substring occurs."
      ]
    },
    {
      "metadata": {
        "trusted": false
      },
      "cell_type": "code",
      "source": [
        "# [ ] review and run example\n",
        "print(work_tip)\n",
        "print(\"how many w's? \", work_tip.count(\"w\"))\n",
        "print(\"how many o's? \", work_tip.count(\"o\"))\n",
        "print(\"uses 'code', how many times? \", work_tip.count(\"code\"))"
      ],
      "execution_count": 2,
      "outputs": [
        {
          "output_type": "error",
          "ename": "NameError",
          "evalue": "name 'work_tip' is not defined",
          "traceback": [
            "\u001b[1;31m---------------------------------------------------------------------------\u001b[0m",
            "\u001b[1;31mNameError\u001b[0m                                 Traceback (most recent call last)",
            "\u001b[1;32m<ipython-input-2-573f0d22cb71>\u001b[0m in \u001b[0;36m<module>\u001b[1;34m\u001b[0m\n\u001b[0;32m      1\u001b[0m \u001b[1;31m# [ ] review and run example\u001b[0m\u001b[1;33m\u001b[0m\u001b[1;33m\u001b[0m\u001b[1;33m\u001b[0m\u001b[0m\n\u001b[1;32m----> 2\u001b[1;33m \u001b[0mprint\u001b[0m\u001b[1;33m(\u001b[0m\u001b[0mwork_tip\u001b[0m\u001b[1;33m)\u001b[0m\u001b[1;33m\u001b[0m\u001b[1;33m\u001b[0m\u001b[0m\n\u001b[0m\u001b[0;32m      3\u001b[0m \u001b[0mprint\u001b[0m\u001b[1;33m(\u001b[0m\u001b[1;34m\"how many w's? \"\u001b[0m\u001b[1;33m,\u001b[0m \u001b[0mwork_tip\u001b[0m\u001b[1;33m.\u001b[0m\u001b[0mcount\u001b[0m\u001b[1;33m(\u001b[0m\u001b[1;34m\"w\"\u001b[0m\u001b[1;33m)\u001b[0m\u001b[1;33m)\u001b[0m\u001b[1;33m\u001b[0m\u001b[1;33m\u001b[0m\u001b[0m\n\u001b[0;32m      4\u001b[0m \u001b[0mprint\u001b[0m\u001b[1;33m(\u001b[0m\u001b[1;34m\"how many o's? \"\u001b[0m\u001b[1;33m,\u001b[0m \u001b[0mwork_tip\u001b[0m\u001b[1;33m.\u001b[0m\u001b[0mcount\u001b[0m\u001b[1;33m(\u001b[0m\u001b[1;34m\"o\"\u001b[0m\u001b[1;33m)\u001b[0m\u001b[1;33m)\u001b[0m\u001b[1;33m\u001b[0m\u001b[1;33m\u001b[0m\u001b[0m\n\u001b[0;32m      5\u001b[0m \u001b[0mprint\u001b[0m\u001b[1;33m(\u001b[0m\u001b[1;34m\"uses 'code', how many times? \"\u001b[0m\u001b[1;33m,\u001b[0m \u001b[0mwork_tip\u001b[0m\u001b[1;33m.\u001b[0m\u001b[0mcount\u001b[0m\u001b[1;33m(\u001b[0m\u001b[1;34m\"code\"\u001b[0m\u001b[1;33m)\u001b[0m\u001b[1;33m)\u001b[0m\u001b[1;33m\u001b[0m\u001b[1;33m\u001b[0m\u001b[0m\n",
            "\u001b[1;31mNameError\u001b[0m: name 'work_tip' is not defined"
          ]
        }
      ]
    },
    {
      "metadata": {
        "trusted": false
      },
      "cell_type": "code",
      "source": [
        "# [ ] review and run example \n",
        "print(work_tip[:mid_pt])\n",
        "print(\"# o's in first half\")\n",
        "print(work_tip[:mid_pt].count(\"o\"))\n",
        "\n",
        "print()\n",
        "print(work_tip[mid_pt:])\n",
        "print(\"# o's in second half\")\n",
        "print(work_tip[mid_pt:].count(\"o\"))"
      ],
      "execution_count": 1,
      "outputs": [
        {
          "output_type": "error",
          "ename": "NameError",
          "evalue": "name 'work_tip' is not defined",
          "traceback": [
            "\u001b[1;31m---------------------------------------------------------------------------\u001b[0m",
            "\u001b[1;31mNameError\u001b[0m                                 Traceback (most recent call last)",
            "\u001b[1;32m<ipython-input-1-15e393adcc66>\u001b[0m in \u001b[0;36m<module>\u001b[1;34m\u001b[0m\n\u001b[0;32m      1\u001b[0m \u001b[1;31m# [ ] review and run example\u001b[0m\u001b[1;33m\u001b[0m\u001b[1;33m\u001b[0m\u001b[1;33m\u001b[0m\u001b[0m\n\u001b[1;32m----> 2\u001b[1;33m \u001b[0mprint\u001b[0m\u001b[1;33m(\u001b[0m\u001b[0mwork_tip\u001b[0m\u001b[1;33m[\u001b[0m\u001b[1;33m:\u001b[0m\u001b[0mmid_pt\u001b[0m\u001b[1;33m]\u001b[0m\u001b[1;33m)\u001b[0m\u001b[1;33m\u001b[0m\u001b[1;33m\u001b[0m\u001b[0m\n\u001b[0m\u001b[0;32m      3\u001b[0m \u001b[0mprint\u001b[0m\u001b[1;33m(\u001b[0m\u001b[1;34m\"# o's in first half\"\u001b[0m\u001b[1;33m)\u001b[0m\u001b[1;33m\u001b[0m\u001b[1;33m\u001b[0m\u001b[0m\n\u001b[0;32m      4\u001b[0m \u001b[0mprint\u001b[0m\u001b[1;33m(\u001b[0m\u001b[0mwork_tip\u001b[0m\u001b[1;33m[\u001b[0m\u001b[1;33m:\u001b[0m\u001b[0mmid_pt\u001b[0m\u001b[1;33m]\u001b[0m\u001b[1;33m.\u001b[0m\u001b[0mcount\u001b[0m\u001b[1;33m(\u001b[0m\u001b[1;34m\"o\"\u001b[0m\u001b[1;33m)\u001b[0m\u001b[1;33m)\u001b[0m\u001b[1;33m\u001b[0m\u001b[1;33m\u001b[0m\u001b[0m\n\u001b[0;32m      5\u001b[0m \u001b[1;33m\u001b[0m\u001b[0m\n",
            "\u001b[1;31mNameError\u001b[0m: name 'work_tip' is not defined"
          ]
        }
      ]
    },
    {
      "metadata": {},
      "cell_type": "markdown",
      "source": [
        "### .find(*string*) \n",
        "Returns index of first character or substring match  .\n",
        "Returns **-1** if no match found.\n",
        "#### .find(*string*, *start index*, *end index*)\n",
        "Same as above .find() but searches from optional start and to optional end index."
      ]
    },
    {
      "metadata": {
        "trusted": false
      },
      "cell_type": "code",
      "source": [
        "# [ ] review and run example \n",
        "work_tip = \"good code has meaningful variable names\"\n",
        "print(work_tip)\n",
        "# index where first instance of \"code\" starts\n",
        "code_here = work_tip.find(\"code\")\n",
        "print(code_here, '= starting index for \"code\"')"
      ],
      "execution_count": null,
      "outputs": []
    },
    {
      "metadata": {
        "trusted": false
      },
      "cell_type": "code",
      "source": [
        "# [ ] review and run example \n",
        "# set start index = 13 and end index = 33\n",
        "print('search for \"meaning\" in the sub-string:', work_tip[13:33],\"\\n\")\n",
        "meaning_here = work_tip.find(\"meaning\",13,33)\n",
        "print('\"meaning\" found in work_tip[13:33] sub-string search at index', meaning_here)"
      ],
      "execution_count": null,
      "outputs": []
    },
    {
      "metadata": {
        "trusted": false
      },
      "cell_type": "code",
      "source": [
        "# [ ] review and run example \n",
        "# if .find(\"o\") has No Match, -1 is returned\n",
        "print (\"work_tip:\" , work_tip)\n",
        "location = work_tip.find(\"o\")\n",
        "\n",
        "# keeps looping until location = -1 (no \"o\" found)\n",
        "while location >= 0:\n",
        "    print(\"'o' at index =\", location)\n",
        "    # find(\"o\", location + 1) looks for a \"o\" after index the first \"o\" was found\n",
        "    location = work_tip.find(\"o\", location + 1)\n",
        "print(\"no more o's\")"
      ],
      "execution_count": 10,
      "outputs": [
        {
          "output_type": "stream",
          "name": "stdout",
          "text": [
            "work_tip: good code is commented code\n'o' at index = 1\n'o' at index = 2\n'o' at index = 6\n'o' at index = 14\n'o' at index = 24\nno more o's\n"
          ]
        }
      ]
    },
    {
      "metadata": {
        "collapsed": true
      },
      "cell_type": "markdown",
      "source": [
        "## Task 1: `len()`"
      ]
    },
    {
      "metadata": {
        "trusted": false
      },
      "cell_type": "code",
      "source": [
        "# [ ] use len() to find the midpoint of the string \n",
        "# [ ] print the halves on separate lines\n",
        "random_tip = \"wear a hat when it rains\"\n",
        "\n",
        "mid_pt = int(len(random_tip)/2)\n",
        "print(random_tip[:mid_pt])\n",
        "print(random_tip[mid_pt:])\n",
        "\n",
        "\n"
      ],
      "execution_count": 5,
      "outputs": [
        {
          "output_type": "stream",
          "name": "stdout",
          "text": [
            "wear a hat w\nhen it rains\n"
          ]
        }
      ]
    },
    {
      "metadata": {},
      "cell_type": "markdown",
      "source": [
        "## Task 2: `.count()`"
      ]
    },
    {
      "metadata": {
        "trusted": false
      },
      "cell_type": "code",
      "source": [
        "# for letters: \"e\" and \"a\" in random_tip\n",
        "# [ ] print letter counts \n",
        "# [ ] BONUS: print which letter is most frequent\n",
        "random_tip = \"wear a hat when it rains\"\n",
        "\n",
        "print(random_tip.count(\"e\"), \"Is how many 'e'\")\n",
        "print(random_tip.count(\"a\"), \"is how many 'a'\")\n",
        "\n",
        "\n"
      ],
      "execution_count": 7,
      "outputs": [
        {
          "output_type": "stream",
          "name": "stdout",
          "text": [
            "2 Is how many 'e'\n4 is how many 'a'\n"
          ]
        }
      ]
    },
    {
      "metadata": {
        "collapsed": true
      },
      "cell_type": "markdown",
      "source": [
        "## Task 3: `.find()`"
      ]
    },
    {
      "metadata": {
        "trusted": false
      },
      "cell_type": "code",
      "source": [
        "# [ ] print long_word from the location of the first and second \"t\"\n",
        "long_word = \"juxtaposition\"\n",
        "\n",
        "while location >= 0:\n",
        "    print(\"'t' at index =\", location)\n",
        "    location = long_word.find(\"t\", location + 1)\n",
        "print(\"no more t's\")\n",
        "\n",
        "print(long_word[3::1])\n",
        "print(long_word[9::1])"
      ],
      "execution_count": 19,
      "outputs": [
        {
          "output_type": "stream",
          "name": "stdout",
          "text": [
            "no more t's\ntaposition\ntion\n"
          ]
        }
      ]
    },
    {
      "metadata": {
        "collapsed": true
      },
      "cell_type": "markdown",
      "source": [
        "## Task 4 (program): Print each word in a quote\n",
        "```python\n",
        "start = 0\n",
        "space_index = quote.find(\" \")\n",
        "while space_index != -1:\n",
        "    # code to print word (index slice start:space_index)\n",
        "```"
      ]
    },
    {
      "metadata": {
        "trusted": false,
        "tags": []
      },
      "cell_type": "code",
      "source": [
        "quote = \"they stumble who run fast \"\n",
        "\n",
        "start = 0\n",
        "space_index = quote.find(\" \")\n",
        "while space_index != -1:\n",
        "    print(quote[start:space_index])\n",
        "    start = space_index + 1\n",
        "    space_index = quote.find(\" \", space_index + 1)\n",
        "\n",
        "\n",
        "\n",
        "\n",
        "\n"
      ],
      "execution_count": 33,
      "outputs": [
        {
          "output_type": "stream",
          "name": "stdout",
          "text": [
            "they\nstumble\nwho\nrun\nfast\n"
          ]
        }
      ]
    },
    {
      "metadata": {},
      "cell_type": "markdown",
      "source": [
        "[Terms of use](http://go.microsoft.com/fwlink/?LinkID=206977) &nbsp; [Privacy & cookies](https://go.microsoft.com/fwlink/?LinkId=521839) &nbsp; © 2017 Microsoft"
      ]
    },
    {
      "cell_type": "code",
      "execution_count": null,
      "metadata": {},
      "outputs": [],
      "source": []
    }
  ],
  "metadata": {
    "anaconda-cloud": {},
    "kernelspec": {
      "name": "Python 3.7.3 32-bit",
      "display_name": "Python 3.7.3 32-bit",
      "metadata": {
        "interpreter": {
          "hash": "8e61c9422603e3d3820d3aeca1b8eefe471d1a1023a28a3903412dc32402bf43"
        }
      }
    },
    "language_info": {
      "mimetype": "text/x-python",
      "nbconvert_exporter": "python",
      "name": "python",
      "file_extension": ".py",
      "version": "3.7.3-final",
      "pygments_lexer": "ipython3",
      "codemirror_mode": {
        "version": 3,
        "name": "ipython"
      }
    }
  },
  "nbformat": 4,
  "nbformat_minor": 1
}