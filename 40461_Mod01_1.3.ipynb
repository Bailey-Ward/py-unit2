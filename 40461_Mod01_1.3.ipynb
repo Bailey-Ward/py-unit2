{
  "cells": [
    {
      "metadata": {},
      "cell_type": "markdown",
      "source": [
        "# Section 1.3\n",
        "## Iterating Strings\n",
        "- Accessing string characters with index\n",
        "- Accessing substrings with index slicing\n",
        "- **Iterating through characters of a string**\n",
        "- More string methods\n",
        "\n",
        "----- \n",
        "\n",
        "### Student will be able to\n",
        "- Work with string characters\n",
        "- Slice strings into substrings\n",
        "- **Iterate through string characters**\n",
        "- Use string methods"
      ]
    },
    {
      "metadata": {},
      "cell_type": "markdown",
      "source": [
        "## Concept: Iterate a String by Character\n",
        "[![view video](https://iajupyterprodblobs.blob.core.windows.net/imagecontainer/common/play_video.png)]( http://edxinteractivepage.blob.core.windows.net/edxpages/f7cff1a7-5601-48a1-95a6-fd1fdfabd20e.html?details=[{\"src\":\"http://jupyternootbookwams.streaming.mediaservices.windows.net/edd3631b-bceb-45a1-82bb-addf532aba4d/Unit2_Section1.3a-Iterate_a_String.ism/manifest\",\"type\":\"application/vnd.ms-sstr+xml\"}],[{\"src\":\"http://jupyternootbookwams.streaming.mediaservices.windows.net/edd3631b-bceb-45a1-82bb-addf532aba4d/Unit2_Section1.3a-Iterate_a_String.vtt\",\"srclang\":\"en\",\"kind\":\"subtitles\",\"label\":\"english\"}])\n",
        "### `for letter in word:`\n",
        "Python provides powerful sequence iteration features.  Below, **`for letter in word:`** loops through each letter in *word*.\n",
        "\n",
        "```python\n",
        "word = \"cello\"\n",
        "\n",
        "for letter in word:\n",
        "    print(letter)\n",
        "```  \n",
        "\n",
        "The variable **`letter`** is an arbitrary variable name .  Any valid variable name can be used.\n"
      ]
    },
    {
      "metadata": {},
      "cell_type": "markdown",
      "source": [
        "### Examples"
      ]
    },
    {
      "metadata": {
        "trusted": false
      },
      "cell_type": "code",
      "source": [
        "# [ ] review and run example\n",
        "word = \"cello\"\n",
        "\n",
        "for letter in word:\n",
        "    print(letter)"
      ],
      "execution_count": 1,
      "outputs": [
        {
          "output_type": "stream",
          "name": "stdout",
          "text": [
            "c\ne\nl\nl\no\n"
          ]
        }
      ]
    },
    {
      "metadata": {
        "trusted": false
      },
      "cell_type": "code",
      "source": [
        "# [ ] review and run example\n",
        "# note: the variable 'letter' changed to 'item'\n",
        "word = \"trumpet\"\n",
        "\n",
        "for item in word:\n",
        "    print(item)"
      ],
      "execution_count": 2,
      "outputs": [
        {
          "output_type": "stream",
          "name": "stdout",
          "text": [
            "t\nr\nu\nm\np\ne\nt\n"
          ]
        }
      ]
    },
    {
      "metadata": {
        "trusted": false
      },
      "cell_type": "code",
      "source": [
        "# [ ] review and run example\n",
        "# note: variable is now 'xyz' \n",
        "# using 'xyz', 'item' or 'letter' are all the same result\n",
        "word = \"piano\"\n",
        "\n",
        "for xyz in word:\n",
        "    print(xyz)"
      ],
      "execution_count": 3,
      "outputs": [
        {
          "output_type": "stream",
          "name": "stdout",
          "text": [
            "p\ni\na\nn\no\n"
          ]
        }
      ]
    },
    {
      "metadata": {
        "trusted": false
      },
      "cell_type": "code",
      "source": [
        "# [ ] review and run example\n",
        "# creates a new string (new_name) adding a letter (ltr) each loop\n",
        "# Q?: how many times will the loop run?\n",
        "student_name = \"Skye\"\n",
        "new_name = \"\"\n",
        "\n",
        "for ltr in student_name:\n",
        "    if ltr.lower() == \"y\":\n",
        "        new_name += ltr.upper()\n",
        "    else:\n",
        "        new_name += ltr\n",
        "print(student_name,\"to\",new_name)"
      ],
      "execution_count": 4,
      "outputs": [
        {
          "output_type": "stream",
          "name": "stdout",
          "text": [
            "Skye to SkYe\n"
          ]
        }
      ]
    },
    {
      "metadata": {
        "collapsed": true
      },
      "cell_type": "markdown",
      "source": [
        "## Task 1: Iterate a String\n",
        "### One character at a time"
      ]
    },
    {
      "metadata": {
        "trusted": false
      },
      "cell_type": "code",
      "source": [
        "# [ ] Get user input for first_name\n",
        "# [ ] iterate through letters in first_name \n",
        "#    - print each letter on a new line\n",
        "\n",
        "first_name = input(\"What is your first name?:\")\n",
        "\n",
        "for letter in first_name:\n",
        "    print(letter)\n",
        "\n"
      ],
      "execution_count": 10,
      "outputs": [
        {
          "output_type": "stream",
          "name": "stdout",
          "text": [
            "b\na\ni\nl\ne\ny\n"
          ]
        }
      ]
    },
    {
      "metadata": {},
      "cell_type": "markdown",
      "source": [
        "## Task 2 (Program): capitalize-io\n",
        "- Get user input for first_name\n",
        "- Create an empty string variable: new_name\n",
        "- Iterate through letters in first_name \n",
        "  - Add each letter in new_name\n",
        "  - Capitalize if letter is an \"i\" or \"o\" *(hint: if, elif, else)\n",
        "- Print new_name"
      ]
    },
    {
      "metadata": {
        "trusted": false
      },
      "cell_type": "code",
      "source": [
        "# [ ] Create capitalize-io\n",
        "first_name = input(\"What is your first name?:\")\n",
        "new_name = \"\"\n",
        "\n",
        "for letter in first_name:\n",
        "    print(letter)\n",
        "    letter+=new_name\n",
        "    if letter.lower() == \"i\":\n",
        "        print(\"I\")\n",
        "    elif letter.lower() == \"o\":\n",
        "        print(\"O\")\n",
        "    else:\n",
        "        pass\n",
        "    \n",
        "print(new_name)\n",
        "    \n"
      ],
      "execution_count": 25,
      "outputs": [
        {
          "output_type": "stream",
          "name": "stdout",
          "text": [
            "b\na\ni\nl\ne\ny\n\n"
          ]
        }
      ]
    },
    {
      "metadata": {},
      "cell_type": "markdown",
      "source": [
        "## Concept: Iterate Substrings \n",
        "[![view video](https://iajupyterprodblobs.blob.core.windows.net/imagecontainer/common/play_video.png)]( http://edxinteractivepage.blob.core.windows.net/edxpages/f7cff1a7-5601-48a1-95a6-fd1fdfabd20e.html?details=[{\"src\":\"http://jupyternootbookwams.streaming.mediaservices.windows.net/257ed101-c530-406a-ba20-6d437d88e529/Unit2_Section1.3b-Iterate-Substrings.ism/manifest\",\"type\":\"application/vnd.ms-sstr+xml\"}],[{\"src\":\"http://jupyternootbookwams.streaming.mediaservices.windows.net/257ed101-c530-406a-ba20-6d437d88e529/Unit2_Section1.3b-Iterate-Substrings.vtt\",\"srclang\":\"en\",\"kind\":\"subtitles\",\"label\":\"english\"}])\n",
        "Combine string slicing and iteration:\n",
        "\n",
        "```python\n",
        "student_name = \"Skye\"\n",
        "\n",
        "for letter in student_name[:3]:\n",
        "    print(letter)\n",
        "```  \n",
        "\n",
        "Iterate backwards using: **`student_name[::-1]`**."
      ]
    },
    {
      "metadata": {},
      "cell_type": "markdown",
      "source": [
        "### Example"
      ]
    },
    {
      "metadata": {
        "trusted": false
      },
      "cell_type": "code",
      "source": [
        "# [ ] review and run example\n",
        "student_name = \"Skye\"\n",
        "\n",
        "for letter in student_name[:3]:\n",
        "    print(letter)"
      ],
      "execution_count": 26,
      "outputs": [
        {
          "output_type": "stream",
          "name": "stdout",
          "text": [
            "S\nk\ny\n"
          ]
        }
      ]
    },
    {
      "metadata": {
        "trusted": false
      },
      "cell_type": "code",
      "source": [
        "# Iterate BACKWARDS\n",
        "# [ ] review and run example\n",
        "student_name = \"Skye\"\n",
        "\n",
        "# start at \"y\" (student_name[2]), iterate backwards\n",
        "for letter in student_name[2::-1]:\n",
        "    print(letter)"
      ],
      "execution_count": 27,
      "outputs": [
        {
          "output_type": "stream",
          "name": "stdout",
          "text": [
            "y\nk\nS\n"
          ]
        }
      ]
    },
    {
      "metadata": {
        "collapsed": true
      },
      "cell_type": "markdown",
      "source": [
        "## Task 3: String slicing and iteration"
      ]
    },
    {
      "metadata": {
        "trusted": false
      },
      "cell_type": "code",
      "source": [
        "# [ ] create & print a variable, other_word, made of every other letter in long_word\n",
        "long_word = \"juxtaposition\"\n",
        "\n",
        "other_word = long_word[0::2]\n",
        "\n",
        "print(other_word)\n",
        "\n"
      ],
      "execution_count": 28,
      "outputs": [
        {
          "output_type": "stream",
          "name": "stdout",
          "text": [
            "jxaoiin\n"
          ]
        }
      ]
    },
    {
      "metadata": {
        "trusted": false
      },
      "cell_type": "code",
      "source": [
        "# Mirror Color\n",
        "# [ ] get user input, fav_color\n",
        "# [ ] print fav_color backwards + fav_color\n",
        "# example: \"Red\" prints \"deRRed\"\n",
        "\n",
        "fav_color = input(\"What's your favourite colour?:\")\n",
        "\n",
        "col_mir = fav_color[::-1]\n",
        "\n",
        "print(fav_color, \"mirrored prints\", col_mir,fav_color)\n"
      ],
      "execution_count": 31,
      "outputs": [
        {
          "output_type": "stream",
          "name": "stdout",
          "text": [
            "red mirrored prints der red\n"
          ]
        }
      ]
    },
    {
      "metadata": {},
      "cell_type": "markdown",
      "source": [
        "[Terms of use](http://go.microsoft.com/fwlink/?LinkID=206977) &nbsp; [Privacy & cookies](https://go.microsoft.com/fwlink/?LinkId=521839) &nbsp; © 2017 Microsoft"
      ]
    }
  ],
  "metadata": {
    "anaconda-cloud": {},
    "kernelspec": {
      "name": "Python 3.7.3 32-bit",
      "display_name": "Python 3.7.3 32-bit",
      "metadata": {
        "interpreter": {
          "hash": "8e61c9422603e3d3820d3aeca1b8eefe471d1a1023a28a3903412dc32402bf43"
        }
      }
    },
    "language_info": {
      "mimetype": "text/x-python",
      "nbconvert_exporter": "python",
      "name": "python",
      "file_extension": ".py",
      "version": "3.7.3-final",
      "pygments_lexer": "ipython3",
      "codemirror_mode": {
        "version": 3,
        "name": "ipython"
      }
    }
  },
  "nbformat": 4,
  "nbformat_minor": 1
}