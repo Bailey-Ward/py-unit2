{
  "cells": [
    {
      "metadata": {},
      "cell_type": "markdown",
      "source": [
        "# Section 2.4\n",
        "## List Delete\n",
        "- List Creation\n",
        "- List Access\n",
        "- List Append\n",
        "- List Insert\n",
        "- **List Delete (`del`, `.pop()` and `.remove()`)**\n",
        "\n",
        "----- \n",
        "\n",
        "### Student will be able to\n",
        "\n",
        "- Create lists\n",
        "- Access items in a list\n",
        "- Add items to the end of a list\n",
        "- Modify and insert items into a list\n",
        "- **Delete items from a list with `del`, `.pop()` & `.remove()`**"
      ]
    },
    {
      "metadata": {},
      "cell_type": "markdown",
      "source": [
        "## Concept: Delete a specific list index\n",
        "[![view video](https://iajupyterprodblobs.blob.core.windows.net/imagecontainer/common/play_video.png)]( http://edxinteractivepage.blob.core.windows.net/edxpages/f7cff1a7-5601-48a1-95a6-fd1fdfabd20e.html?details=[{\"src\":\"http://jupyternootbookwams.streaming.mediaservices.windows.net/072d8761-7811-438e-a77f-72c9634c0f8c/Unit2_Section2.4a-Deleting_Specific_Index.ism/manifest\",\"type\":\"application/vnd.ms-sstr+xml\"}],[{\"src\":\"http://jupyternootbookwams.streaming.mediaservices.windows.net/072d8761-7811-438e-a77f-72c9634c0f8c/Unit2_Section2.4a-Deleting_Specific_Index.vtt\",\"srclang\":\"en\",\"kind\":\"subtitles\",\"label\":\"english\"}])\n",
        "### `del ` statement  \n",
        "```python\n",
        "del party_list[2]\n",
        "```"
      ]
    },
    {
      "metadata": {},
      "cell_type": "markdown",
      "source": [
        "### Examples"
      ]
    },
    {
      "metadata": {
        "trusted": false
      },
      "cell_type": "code",
      "source": [
        "# [ ] review and run example\n",
        "# the list before delete\n",
        "sample_list = [11, 21, 13, 14, 51, 161, 117, 181]\n",
        "print(\"sample_list before: \", sample_list)\n",
        "\n",
        "del sample_list[1]\n",
        "# the list after delete\n",
        "print(\"sample_list after:  \", sample_list)"
      ],
      "execution_count": 1,
      "outputs": [
        {
          "output_type": "stream",
          "name": "stdout",
          "text": [
            "sample_list before:  [11, 21, 13, 14, 51, 161, 117, 181]\nsample_list after:   [11, 13, 14, 51, 161, 117, 181]\n"
          ]
        }
      ]
    },
    {
      "metadata": {
        "trusted": false
      },
      "cell_type": "code",
      "source": [
        "# [ ] review and run example Multiple Times\n",
        "# [ ] consider how to reset the list values?\n",
        "print(\"sample_list before:\", sample_list)\n",
        "del sample_list[0]\n",
        "print(\"sample_list after:\", sample_list)"
      ],
      "execution_count": 2,
      "outputs": [
        {
          "output_type": "stream",
          "name": "stdout",
          "text": [
            "sample_list before: [11, 13, 14, 51, 161, 117, 181]\nsample_list after: [13, 14, 51, 161, 117, 181]\n"
          ]
        }
      ]
    },
    {
      "metadata": {
        "trusted": false
      },
      "cell_type": "code",
      "source": [
        "# [ ] review and run example\n",
        "mixed_types = [1, \"cat\"]\n",
        "# append number\n",
        "mixed_types.append(3)\n",
        "print(\"mixed_types list: \", mixed_types)\n",
        "\n",
        "# append string\n",
        "mixed_types.append(\"turtle\")\n",
        "print(\"mixed_types list: \", mixed_types)"
      ],
      "execution_count": 3,
      "outputs": [
        {
          "output_type": "stream",
          "name": "stdout",
          "text": [
            "mixed_types list:  [1, 'cat', 3]\nmixed_types list:  [1, 'cat', 3, 'turtle']\n"
          ]
        }
      ]
    },
    {
      "metadata": {
        "collapsed": true
      },
      "cell_type": "markdown",
      "source": [
        "## Task 1: `del` statement"
      ]
    },
    {
      "metadata": {
        "trusted": false
      },
      "cell_type": "code",
      "source": [
        "# [ ] print ft_bones list\n",
        "# [ ] delete \"cuboid\" from ft_bones\n",
        "# [ ] reprint list\n",
        "ft_bones = [\"calcaneus\", \"talus\", \"cuboid\", \"navicular\", \"lateral cuneiform\", \n",
        "            \"intermediate cuneiform\", \"medial cuneiform\"]\n",
        "\n",
        "print(ft_bones)\n",
        "\n",
        "del ft_bones[2]\n",
        "\n",
        "print(ft_bones)\n"
      ],
      "execution_count": 5,
      "outputs": [
        {
          "output_type": "stream",
          "name": "stdout",
          "text": [
            "['calcaneus', 'talus', 'cuboid', 'navicular', 'lateral cuneiform', 'intermediate cuneiform', 'medial cuneiform']\n['calcaneus', 'talus', 'navicular', 'lateral cuneiform', 'intermediate cuneiform', 'medial cuneiform']\n"
          ]
        }
      ]
    },
    {
      "metadata": {},
      "cell_type": "markdown",
      "source": [
        "## Task 2: Multiple `del` statements "
      ]
    },
    {
      "metadata": {
        "trusted": false
      },
      "cell_type": "code",
      "source": [
        "# [ ] print ft_bones list\n",
        "# [ ] delete \"cuboid\" from ft_bones\n",
        "# [ ] delete \"navicular\" from list\n",
        "# [ ] reprint list\n",
        "# [ ] check for deletion of \"cuboid\" and \"navicular\"\n",
        "ft_bones = [\"calcaneus\", \"talus\", \"cuboid\", \"navicular\", \"lateral cuneiform\", \n",
        "            \"intermediate cuneiform\", \"medial cuneiform\"]\n",
        "\n",
        "print(ft_bones)\n",
        "\n",
        "del ft_bones[2]\n",
        "del ft_bones[2]\n",
        "\n",
        "print(ft_bones)\n",
        "\n"
      ],
      "execution_count": 7,
      "outputs": [
        {
          "output_type": "stream",
          "name": "stdout",
          "text": [
            "['calcaneus', 'talus', 'cuboid', 'navicular', 'lateral cuneiform', 'intermediate cuneiform', 'medial cuneiform']\n['calcaneus', 'talus', 'lateral cuneiform', 'intermediate cuneiform', 'medial cuneiform']\n"
          ]
        }
      ]
    },
    {
      "metadata": {},
      "cell_type": "markdown",
      "source": [
        "## Concept: .pop() gets and deletes item in list\n",
        "[![view video](https://iajupyterprodblobs.blob.core.windows.net/imagecontainer/common/play_video.png)]( http://edxinteractivepage.blob.core.windows.net/edxpages/f7cff1a7-5601-48a1-95a6-fd1fdfabd20e.html?details=[{\"src\":\"http://jupyternootbookwams.streaming.mediaservices.windows.net/67b83f30-a92c-4d1f-a7a3-ca257dd4db4e/Unit2_Section2.4b-List_Pop_Method.ism/manifest\",\"type\":\"application/vnd.ms-sstr+xml\"}],[{\"src\":\"http://jupyternootbookwams.streaming.mediaservices.windows.net/67b83f30-a92c-4d1f-a7a3-ca257dd4db4e/Unit2_Section2.4b-List_Pop_Method.vtt\",\"srclang\":\"en\",\"kind\":\"subtitles\",\"label\":\"english\"}])\n",
        "### `.pop()`  method default is last item in a list\n",
        "```python\n",
        "last_item = party_list.pop()\n",
        "first_item = party_list.pop(0)\n",
        "```"
      ]
    },
    {
      "metadata": {},
      "cell_type": "markdown",
      "source": [
        "### Examples"
      ]
    },
    {
      "metadata": {
        "trusted": false
      },
      "cell_type": "code",
      "source": [
        "# [ ] review and run example\n",
        "# pop() gets the last item by default\n",
        "party_list = [\"Joana\", \"Alton\", \"Tobias\"]\n",
        "print(party_list)\n",
        "print(\"Hello,\", party_list.pop())\n",
        "\n",
        "print(\"\\n\", party_list)\n",
        "print(\"Hello,\", party_list.pop())\n",
        "\n",
        "print(\"\\n\", party_list)\n",
        "print(\"Hello,\", party_list.pop())\n",
        "\n",
        "print(\"\\n\", party_list)"
      ],
      "execution_count": 8,
      "outputs": [
        {
          "output_type": "stream",
          "name": "stdout",
          "text": [
            "['Joana', 'Alton', 'Tobias']\nHello, Tobias\n\n ['Joana', 'Alton']\nHello, Alton\n\n ['Joana']\nHello, Joana\n\n []\n"
          ]
        }
      ]
    },
    {
      "metadata": {
        "trusted": false
      },
      "cell_type": "code",
      "source": [
        "# [ ] review and run example\n",
        "# can pop specific index like pop(3)\n",
        "number_list = [11, 21, 13, 14, 51, 161, 117, 181]\n",
        "print(\"before:\", number_list)\n",
        "number_list.pop(3)\n",
        "print(\"after :\", number_list)\n"
      ],
      "execution_count": 9,
      "outputs": [
        {
          "output_type": "stream",
          "name": "stdout",
          "text": [
            "before: [11, 21, 13, 14, 51, 161, 117, 181]\nafter : [11, 21, 13, 51, 161, 117, 181]\n"
          ]
        }
      ]
    },
    {
      "metadata": {
        "trusted": true
      },
      "cell_type": "code",
      "source": [
        "# [ ] review and run example\n",
        "# set a variable to a poped value\n",
        "number_list = [11, 21, 13, 14, 51, 161, 117, 181]\n",
        "print(\"list before:\", number_list)\n",
        "num_1 = number_list.pop()\n",
        "num_2 = number_list.pop()\n",
        "print(\"list after :\", number_list)\n",
        "print(\"add the popped values:\", num_1, \"+\", num_2, \"=\", num_1 + num_2)"
      ],
      "execution_count": 10,
      "outputs": [
        {
          "output_type": "stream",
          "name": "stdout",
          "text": [
            "list before: [11, 21, 13, 14, 51, 161, 117, 181]\nlist after : [11, 21, 13, 14, 51, 161]\nadd the popped values: 181 + 117 = 298\n"
          ]
        }
      ]
    },
    {
      "metadata": {
        "collapsed": true
      },
      "cell_type": "markdown",
      "source": [
        "## Task 3: `pop()`"
      ]
    },
    {
      "metadata": {
        "trusted": false
      },
      "cell_type": "code",
      "source": [
        "# [ ] pop() and print the first and last items from the ft_bones list\n",
        "ft_bones = [\"calcaneus\", \"talus\", \"cuboid\", \"navicular\", \"lateral cuneiform\", \n",
        "            \"intermediate cuneiform\", \"medial cuneiform\"]\n",
        "print(ft_bones.pop(0))\n",
        "print(ft_bones.pop(5))\n",
        "# [ ] print the remaining list\n",
        "print(ft_bones)\n"
      ],
      "execution_count": 13,
      "outputs": [
        {
          "output_type": "stream",
          "name": "stdout",
          "text": [
            "calcaneus\nmedial cuneiform\n['talus', 'cuboid', 'navicular', 'lateral cuneiform', 'intermediate cuneiform']\n"
          ]
        }
      ]
    },
    {
      "metadata": {},
      "cell_type": "markdown",
      "source": [
        "## Concept: An empty list is False\n",
        "[![view video](https://iajupyterprodblobs.blob.core.windows.net/imagecontainer/common/play_video.png)]( http://edxinteractivepage.blob.core.windows.net/edxpages/f7cff1a7-5601-48a1-95a6-fd1fdfabd20e.html?details=[{\"src\":\"http://jupyternootbookwams.streaming.mediaservices.windows.net/20e00a13-a9d2-4a35-b75d-f6533fa15cbd/Unit2_Section2.4c-Empty_List_is_False.ism/manifest\",\"type\":\"application/vnd.ms-sstr+xml\"}],[{\"src\":\"http://jupyternootbookwams.streaming.mediaservices.windows.net/20e00a13-a9d2-4a35-b75d-f6533fa15cbd/Unit2_Section2.4c-Empty_List_is_False.vtt\",\"srclang\":\"en\",\"kind\":\"subtitles\",\"label\":\"english\"}])\n",
        "### in a conditional an empty list will evaluate `False`\n",
        "This allows creating a while loop that runs until a list is empty\n",
        "```python\n",
        "while dog_types: \n",
        "```"
      ]
    },
    {
      "metadata": {},
      "cell_type": "markdown",
      "source": [
        "### Example"
      ]
    },
    {
      "metadata": {
        "trusted": false
      },
      "cell_type": "code",
      "source": [
        "dog_types = [\"Lab\", \"Pug\", \"Poodle\"]\n",
        "\n",
        "while dog_types: \n",
        "    print(dog_types.pop())"
      ],
      "execution_count": 14,
      "outputs": [
        {
          "output_type": "stream",
          "name": "stdout",
          "text": [
            "Poodle\nPug\nLab\n"
          ]
        }
      ]
    },
    {
      "metadata": {},
      "cell_type": "markdown",
      "source": [
        "## Task 4 (Part 1): Cash Register Input\n",
        "- Create a empty list `purchase_amounts`\n",
        "- Populate the list with user input for the price of items\n",
        "- Continue adding to list with `while` until \"done\" is entered\n",
        "  - Can use `while True:` with `break`\n",
        "- Print `purchase_amounts`\n",
        "- Continue to Part 2"
      ]
    },
    {
      "metadata": {
        "trusted": false
      },
      "cell_type": "code",
      "source": [
        "#[ ] complete the Register Input task above\n",
        "purchase_amounts = [ ]\n",
        "while True:\n",
        "    user_input = input(\"Input the price of the item or type 'done' to end:\")\n",
        "    if user_input.isdigit():\n",
        "        purchase_amounts.append(user_input)\n",
        "    elif user_input == \"done\".lower():\n",
        "        break\n",
        "\n",
        "print(purchase_amounts)\n"
      ],
      "execution_count": 85,
      "outputs": [
        {
          "output_type": "stream",
          "name": "stdout",
          "text": [
            "['4', '7', '5', '6']\n"
          ]
        }
      ]
    },
    {
      "metadata": {},
      "cell_type": "markdown",
      "source": [
        "## Task 4 (Part 2): Cash Register Total\n",
        "- Create a **`subtotal`** variable = 0\n",
        "- Create a while loop that runs **`while`** purchase_amount (is not empty)\n",
        "- Inside the loop: \n",
        "  - **`pop()`** the last list value cast as a float type\n",
        "  - Add the float value to a **`subtotal`** variable\n",
        "- After exiting the loop print **`subtotal`**  \n",
        "  \n",
        "  *Be sure to populate purchase_amounts by running Part 1 above.*"
      ]
    },
    {
      "metadata": {
        "trusted": false,
        "tags": []
      },
      "cell_type": "code",
      "source": [
        "# [ ] complete the Register Total task above\n",
        "subtotal = 0 \n",
        "\n",
        "while (purchase_amounts):\n",
        "    temp = purchase_amounts.pop()\n",
        "    if temp.isdigit():\n",
        "        subtotal += float(temp)\n",
        "\n",
        "print(subtotal)"
      ],
      "execution_count": 86,
      "outputs": [
        {
          "output_type": "stream",
          "name": "stdout",
          "text": [
            "22.0\n"
          ]
        }
      ]
    },
    {
      "metadata": {},
      "cell_type": "markdown",
      "source": [
        "## Concept: Delete a specific object from a list with `.remove()`\n",
        "[![view video](https://iajupyterprodblobs.blob.core.windows.net/imagecontainer/common/play_video.png)]( http://edxinteractivepage.blob.core.windows.net/edxpages/f7cff1a7-5601-48a1-95a6-fd1fdfabd20e.html?details=[{\"src\":\"http://jupyternootbookwams.streaming.mediaservices.windows.net/31fadf38-670c-4ba9-aa68-1934db459c4d/Unit2_Section2.4d-Removing_Object_from_List.ism/manifest\",\"type\":\"application/vnd.ms-sstr+xml\"}],[{\"src\":\"http://jupyternootbookwams.streaming.mediaservices.windows.net/31fadf38-670c-4ba9-aa68-1934db459c4d/Unit2_Section2.4d-Removing_Object_from_List.vtt\",\"srclang\":\"en\",\"kind\":\"subtitles\",\"label\":\"english\"}])\n",
        "### `.remove(object)` removes the 1st item that matches\n",
        "\n",
        "```python\n",
        "dog_types.remove(\"Pug\")\n",
        "```\n",
        ">**`ValueError`** occurs if the object is not available to be removed.  "
      ]
    },
    {
      "metadata": {},
      "cell_type": "markdown",
      "source": [
        "### Examples"
      ]
    },
    {
      "metadata": {
        "trusted": false
      },
      "cell_type": "code",
      "source": [
        "# [ ] review and run example\n",
        "dog_types = [\"Lab\", \"Pug\", \"Poodle\"]\n",
        "\n",
        "if \"Pug\" in dog_types:\n",
        "    dog_types.remove(\"Pug\")\n",
        "else:\n",
        "    print(\"no Pug found\")\n",
        "print(dog_types)"
      ],
      "execution_count": 3,
      "outputs": [
        {
          "output_type": "stream",
          "name": "stdout",
          "text": [
            "['Lab', 'Poodle']\n"
          ]
        }
      ]
    },
    {
      "metadata": {
        "trusted": false
      },
      "cell_type": "code",
      "source": [
        "# [ ] review and run example\n",
        "dogs = [\"Lab\", \"Pug\", \"Poodle\", \"Poodle\", \"Pug\", \"Poodle\"]\n",
        "\n",
        "print(dogs)\n",
        "while \"Poodle\" in dogs:\n",
        "    dogs.remove(\"Poodle\")\n",
        "    print(dogs)"
      ],
      "execution_count": 5,
      "outputs": [
        {
          "output_type": "stream",
          "name": "stdout",
          "text": [
            "['Lab', 'Pug', 'Poodle', 'Poodle', 'Pug', 'Poodle']\n['Lab', 'Pug', 'Poodle', 'Pug', 'Poodle']\n['Lab', 'Pug', 'Pug', 'Poodle']\n['Lab', 'Pug', 'Pug']\n"
          ]
        }
      ]
    },
    {
      "metadata": {},
      "cell_type": "markdown",
      "source": [
        "### ValueError"
      ]
    },
    {
      "metadata": {
        "trusted": false
      },
      "cell_type": "code",
      "source": [
        "# [ ] review and run example\n",
        "# Change to \"Lab\", etc... to fix error\n",
        "dogs.remove(\"Lab\")\n",
        "print(dogs)"
      ],
      "execution_count": 7,
      "outputs": [
        {
          "output_type": "stream",
          "name": "stdout",
          "text": [
            "['Pug', 'Pug']\n"
          ]
        }
      ]
    },
    {
      "metadata": {
        "collapsed": true
      },
      "cell_type": "markdown",
      "source": [
        "## Task 3: `.remove()`"
      ]
    },
    {
      "metadata": {
        "trusted": false
      },
      "cell_type": "code",
      "source": [
        "# [ ] remove one \"Poodle\" from the list: dogs , or print \"no Poodle found\"\n",
        "# [ ] print list before and after\n",
        "dogs = [\"Lab\", \"Pug\", \"Poodle\", \"Poodle\", \"Pug\", \"Poodle\"]\n",
        "\n"
      ],
      "execution_count": null,
      "outputs": []
    },
    {
      "metadata": {},
      "cell_type": "markdown",
      "source": [
        "[Terms of use](http://go.microsoft.com/fwlink/?LinkID=206977) &nbsp; [Privacy & cookies](https://go.microsoft.com/fwlink/?LinkId=521839) &nbsp; © 2017 Microsoft"
      ]
    }
  ],
  "metadata": {
    "anaconda-cloud": {},
    "kernelspec": {
      "name": "python3",
      "display_name": "Python 3.8.5 64-bit",
      "metadata": {
        "interpreter": {
          "hash": "3410afedb74081d81603511028deadddc25ba0f01c14e0cb891e2c2473f81884"
        }
      }
    },
    "language_info": {
      "mimetype": "text/x-python",
      "nbconvert_exporter": "python",
      "name": "python",
      "pygments_lexer": "ipython3",
      "version": "3.8.5-final",
      "file_extension": ".py",
      "codemirror_mode": {
        "version": 3,
        "name": "ipython"
      }
    }
  },
  "nbformat": 4,
  "nbformat_minor": 1
}